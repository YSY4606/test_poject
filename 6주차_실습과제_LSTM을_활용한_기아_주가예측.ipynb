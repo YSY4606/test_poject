{
  "cells": [
    {
      "cell_type": "markdown",
      "metadata": {
        "id": "view-in-github",
        "colab_type": "text"
      },
      "source": [
        "<a href=\"https://colab.research.google.com/github/YSY4606/test_poject/blob/main/6%EC%A3%BC%EC%B0%A8_%EC%8B%A4%EC%8A%B5%EA%B3%BC%EC%A0%9C_LSTM%EC%9D%84_%ED%99%9C%EC%9A%A9%ED%95%9C_%EA%B8%B0%EC%95%84_%EC%A3%BC%EA%B0%80%EC%98%88%EC%B8%A1.ipynb\" target=\"_parent\"><img src=\"https://colab.research.google.com/assets/colab-badge.svg\" alt=\"Open In Colab\"/></a>"
      ]
    },
    {
      "cell_type": "markdown",
      "metadata": {
        "id": "Pyb1-sOD8bUn"
      },
      "source": [
        "# LSTM을 활용한 주가 예측 모델"
      ]
    },
    {
      "cell_type": "markdown",
      "metadata": {
        "id": "NFXSQum-8bUq"
      },
      "source": [
        "이번 튜토리얼 에서는 다음과 같은 **프로세스 파이프라인**으로 주가 예측을 진행합니다.\n",
        "\n",
        "- FinanceDataReader를 활용하여 주가 데이터 받아오기\n",
        "- TensorFlow Dataset 클래스를 활용하여 주가 데이터 구축\n",
        "- LSTM 을 활용한 주가 예측 모델 구축"
      ]
    },
    {
      "cell_type": "markdown",
      "metadata": {
        "id": "C-yRpDHZ8bUq"
      },
      "source": [
        "## 필요한 모듈 import"
      ]
    },
    {
      "cell_type": "code",
      "execution_count": 1,
      "metadata": {
        "id": "xXuU_RJC8bUr"
      },
      "outputs": [],
      "source": [
        "import pandas as pd\n",
        "import numpy as np\n",
        "import matplotlib.pyplot as plt\n",
        "import seaborn as sns\n",
        "import warnings\n",
        "import os\n",
        "\n",
        "%matplotlib inline\n",
        "warnings.filterwarnings('ignore')\n",
        "plt.rcParams['figure.figsize'] = (15, 20)\n",
        "\n",
        "plt.rcParams['font.family'] = 'NanumGothic'"
      ]
    },
    {
      "cell_type": "markdown",
      "metadata": {
        "id": "K2avgmw-8bUr"
      },
      "source": [
        "## 데이터 (FinanceDataReader)"
      ]
    },
    {
      "cell_type": "markdown",
      "metadata": {
        "id": "Z_Q2Maui8bUs"
      },
      "source": [
        "**FinanceDataReader**는 주가 데이터를 편리하게 가져올 수 있는 파이썬 패키지입니다.\n",
        "\n",
        "- [GitHub Repo](https://github.com/FinanceData/FinanceDataReader)"
      ]
    },
    {
      "cell_type": "markdown",
      "metadata": {
        "id": "V7X2JMIx8bUs"
      },
      "source": [
        "**FinanceDataReader**설치"
      ]
    },
    {
      "cell_type": "code",
      "execution_count": 2,
      "metadata": {
        "id": "4AaUNS5T8bUs",
        "colab": {
          "base_uri": "https://localhost:8080/"
        },
        "outputId": "461113ea-1588-45f4-b358-96310ab30f9d"
      },
      "outputs": [
        {
          "output_type": "stream",
          "name": "stdout",
          "text": [
            "Looking in indexes: https://pypi.org/simple, https://us-python.pkg.dev/colab-wheels/public/simple/\n",
            "Collecting finance-datareader\n",
            "  Downloading finance_datareader-0.9.34-py3-none-any.whl (17 kB)\n",
            "Collecting requests-file\n",
            "  Downloading requests_file-1.5.1-py2.py3-none-any.whl (3.7 kB)\n",
            "Requirement already satisfied: tqdm in /usr/local/lib/python3.7/dist-packages (from finance-datareader) (4.64.0)\n",
            "Requirement already satisfied: pandas>=0.19.2 in /usr/local/lib/python3.7/dist-packages (from finance-datareader) (1.3.5)\n",
            "Requirement already satisfied: requests>=2.3.0 in /usr/local/lib/python3.7/dist-packages (from finance-datareader) (2.23.0)\n",
            "Requirement already satisfied: lxml in /usr/local/lib/python3.7/dist-packages (from finance-datareader) (4.2.6)\n",
            "Requirement already satisfied: python-dateutil>=2.7.3 in /usr/local/lib/python3.7/dist-packages (from pandas>=0.19.2->finance-datareader) (2.8.2)\n",
            "Requirement already satisfied: numpy>=1.17.3 in /usr/local/lib/python3.7/dist-packages (from pandas>=0.19.2->finance-datareader) (1.21.6)\n",
            "Requirement already satisfied: pytz>=2017.3 in /usr/local/lib/python3.7/dist-packages (from pandas>=0.19.2->finance-datareader) (2022.1)\n",
            "Requirement already satisfied: six>=1.5 in /usr/local/lib/python3.7/dist-packages (from python-dateutil>=2.7.3->pandas>=0.19.2->finance-datareader) (1.15.0)\n",
            "Requirement already satisfied: urllib3!=1.25.0,!=1.25.1,<1.26,>=1.21.1 in /usr/local/lib/python3.7/dist-packages (from requests>=2.3.0->finance-datareader) (1.24.3)\n",
            "Requirement already satisfied: certifi>=2017.4.17 in /usr/local/lib/python3.7/dist-packages (from requests>=2.3.0->finance-datareader) (2022.6.15)\n",
            "Requirement already satisfied: idna<3,>=2.5 in /usr/local/lib/python3.7/dist-packages (from requests>=2.3.0->finance-datareader) (2.10)\n",
            "Requirement already satisfied: chardet<4,>=3.0.2 in /usr/local/lib/python3.7/dist-packages (from requests>=2.3.0->finance-datareader) (3.0.4)\n",
            "Installing collected packages: requests-file, finance-datareader\n",
            "Successfully installed finance-datareader-0.9.34 requests-file-1.5.1\n"
          ]
        }
      ],
      "source": [
        "!pip install finance-datareader"
      ]
    },
    {
      "cell_type": "code",
      "execution_count": 3,
      "metadata": {
        "id": "hYWwNFXV8bUt"
      },
      "outputs": [],
      "source": [
        "import FinanceDataReader as fdr"
      ]
    },
    {
      "cell_type": "code",
      "execution_count": 4,
      "metadata": {
        "id": "iIIILf728bUt"
      },
      "outputs": [],
      "source": [
        "kia = fdr.DataReader('000270')"
      ]
    },
    {
      "cell_type": "markdown",
      "metadata": {
        "id": "RM85qQog8bUu"
      },
      "source": [
        "매우 편리하게 삼성전자 주가 데이터를 `DataFrame`형식으로 받아옵니다.\n",
        "\n",
        "기본 **오름차순 정렬**이 된 데이터임을 알 수 있습니다.\n",
        "\n",
        "### 컬럼 설명\n",
        "\n",
        "- `Open`:   시가\n",
        "- `High`:   고가\n",
        "- `Low`:    저가\n",
        "- `Close`:  종가\n",
        "- `Volume`: 거래량\n",
        "- `Change`: 대비"
      ]
    },
    {
      "cell_type": "code",
      "execution_count": 5,
      "metadata": {
        "id": "vDQG1PIR8bUu",
        "outputId": "4b5e2c14-25ba-4d59-a01d-e0efee26d931",
        "colab": {
          "base_uri": "https://localhost:8080/",
          "height": 238
        }
      },
      "outputs": [
        {
          "output_type": "execute_result",
          "data": {
            "text/plain": [
              "             Open   High    Low  Close   Volume    Change\n",
              "Date                                                     \n",
              "2022-07-05  78700  79200  76600  78400  1012601 -0.001274\n",
              "2022-07-06  77700  78000  75400  75400  1447986 -0.038265\n",
              "2022-07-07  75900  76400  74600  75700  1440566  0.003979\n",
              "2022-07-08  76600  77800  76100  76800  1079764  0.014531\n",
              "2022-07-11  78300  79700  77900  78000  1248308  0.015625"
            ],
            "text/html": [
              "\n",
              "  <div id=\"df-d03666be-eb8d-4ced-b7eb-51742b720b47\">\n",
              "    <div class=\"colab-df-container\">\n",
              "      <div>\n",
              "<style scoped>\n",
              "    .dataframe tbody tr th:only-of-type {\n",
              "        vertical-align: middle;\n",
              "    }\n",
              "\n",
              "    .dataframe tbody tr th {\n",
              "        vertical-align: top;\n",
              "    }\n",
              "\n",
              "    .dataframe thead th {\n",
              "        text-align: right;\n",
              "    }\n",
              "</style>\n",
              "<table border=\"1\" class=\"dataframe\">\n",
              "  <thead>\n",
              "    <tr style=\"text-align: right;\">\n",
              "      <th></th>\n",
              "      <th>Open</th>\n",
              "      <th>High</th>\n",
              "      <th>Low</th>\n",
              "      <th>Close</th>\n",
              "      <th>Volume</th>\n",
              "      <th>Change</th>\n",
              "    </tr>\n",
              "    <tr>\n",
              "      <th>Date</th>\n",
              "      <th></th>\n",
              "      <th></th>\n",
              "      <th></th>\n",
              "      <th></th>\n",
              "      <th></th>\n",
              "      <th></th>\n",
              "    </tr>\n",
              "  </thead>\n",
              "  <tbody>\n",
              "    <tr>\n",
              "      <th>2022-07-05</th>\n",
              "      <td>78700</td>\n",
              "      <td>79200</td>\n",
              "      <td>76600</td>\n",
              "      <td>78400</td>\n",
              "      <td>1012601</td>\n",
              "      <td>-0.001274</td>\n",
              "    </tr>\n",
              "    <tr>\n",
              "      <th>2022-07-06</th>\n",
              "      <td>77700</td>\n",
              "      <td>78000</td>\n",
              "      <td>75400</td>\n",
              "      <td>75400</td>\n",
              "      <td>1447986</td>\n",
              "      <td>-0.038265</td>\n",
              "    </tr>\n",
              "    <tr>\n",
              "      <th>2022-07-07</th>\n",
              "      <td>75900</td>\n",
              "      <td>76400</td>\n",
              "      <td>74600</td>\n",
              "      <td>75700</td>\n",
              "      <td>1440566</td>\n",
              "      <td>0.003979</td>\n",
              "    </tr>\n",
              "    <tr>\n",
              "      <th>2022-07-08</th>\n",
              "      <td>76600</td>\n",
              "      <td>77800</td>\n",
              "      <td>76100</td>\n",
              "      <td>76800</td>\n",
              "      <td>1079764</td>\n",
              "      <td>0.014531</td>\n",
              "    </tr>\n",
              "    <tr>\n",
              "      <th>2022-07-11</th>\n",
              "      <td>78300</td>\n",
              "      <td>79700</td>\n",
              "      <td>77900</td>\n",
              "      <td>78000</td>\n",
              "      <td>1248308</td>\n",
              "      <td>0.015625</td>\n",
              "    </tr>\n",
              "  </tbody>\n",
              "</table>\n",
              "</div>\n",
              "      <button class=\"colab-df-convert\" onclick=\"convertToInteractive('df-d03666be-eb8d-4ced-b7eb-51742b720b47')\"\n",
              "              title=\"Convert this dataframe to an interactive table.\"\n",
              "              style=\"display:none;\">\n",
              "        \n",
              "  <svg xmlns=\"http://www.w3.org/2000/svg\" height=\"24px\"viewBox=\"0 0 24 24\"\n",
              "       width=\"24px\">\n",
              "    <path d=\"M0 0h24v24H0V0z\" fill=\"none\"/>\n",
              "    <path d=\"M18.56 5.44l.94 2.06.94-2.06 2.06-.94-2.06-.94-.94-2.06-.94 2.06-2.06.94zm-11 1L8.5 8.5l.94-2.06 2.06-.94-2.06-.94L8.5 2.5l-.94 2.06-2.06.94zm10 10l.94 2.06.94-2.06 2.06-.94-2.06-.94-.94-2.06-.94 2.06-2.06.94z\"/><path d=\"M17.41 7.96l-1.37-1.37c-.4-.4-.92-.59-1.43-.59-.52 0-1.04.2-1.43.59L10.3 9.45l-7.72 7.72c-.78.78-.78 2.05 0 2.83L4 21.41c.39.39.9.59 1.41.59.51 0 1.02-.2 1.41-.59l7.78-7.78 2.81-2.81c.8-.78.8-2.07 0-2.86zM5.41 20L4 18.59l7.72-7.72 1.47 1.35L5.41 20z\"/>\n",
              "  </svg>\n",
              "      </button>\n",
              "      \n",
              "  <style>\n",
              "    .colab-df-container {\n",
              "      display:flex;\n",
              "      flex-wrap:wrap;\n",
              "      gap: 12px;\n",
              "    }\n",
              "\n",
              "    .colab-df-convert {\n",
              "      background-color: #E8F0FE;\n",
              "      border: none;\n",
              "      border-radius: 50%;\n",
              "      cursor: pointer;\n",
              "      display: none;\n",
              "      fill: #1967D2;\n",
              "      height: 32px;\n",
              "      padding: 0 0 0 0;\n",
              "      width: 32px;\n",
              "    }\n",
              "\n",
              "    .colab-df-convert:hover {\n",
              "      background-color: #E2EBFA;\n",
              "      box-shadow: 0px 1px 2px rgba(60, 64, 67, 0.3), 0px 1px 3px 1px rgba(60, 64, 67, 0.15);\n",
              "      fill: #174EA6;\n",
              "    }\n",
              "\n",
              "    [theme=dark] .colab-df-convert {\n",
              "      background-color: #3B4455;\n",
              "      fill: #D2E3FC;\n",
              "    }\n",
              "\n",
              "    [theme=dark] .colab-df-convert:hover {\n",
              "      background-color: #434B5C;\n",
              "      box-shadow: 0px 1px 3px 1px rgba(0, 0, 0, 0.15);\n",
              "      filter: drop-shadow(0px 1px 2px rgba(0, 0, 0, 0.3));\n",
              "      fill: #FFFFFF;\n",
              "    }\n",
              "  </style>\n",
              "\n",
              "      <script>\n",
              "        const buttonEl =\n",
              "          document.querySelector('#df-d03666be-eb8d-4ced-b7eb-51742b720b47 button.colab-df-convert');\n",
              "        buttonEl.style.display =\n",
              "          google.colab.kernel.accessAllowed ? 'block' : 'none';\n",
              "\n",
              "        async function convertToInteractive(key) {\n",
              "          const element = document.querySelector('#df-d03666be-eb8d-4ced-b7eb-51742b720b47');\n",
              "          const dataTable =\n",
              "            await google.colab.kernel.invokeFunction('convertToInteractive',\n",
              "                                                     [key], {});\n",
              "          if (!dataTable) return;\n",
              "\n",
              "          const docLinkHtml = 'Like what you see? Visit the ' +\n",
              "            '<a target=\"_blank\" href=https://colab.research.google.com/notebooks/data_table.ipynb>data table notebook</a>'\n",
              "            + ' to learn more about interactive tables.';\n",
              "          element.innerHTML = '';\n",
              "          dataTable['output_type'] = 'display_data';\n",
              "          await google.colab.output.renderOutput(dataTable, element);\n",
              "          const docLink = document.createElement('div');\n",
              "          docLink.innerHTML = docLinkHtml;\n",
              "          element.appendChild(docLink);\n",
              "        }\n",
              "      </script>\n",
              "    </div>\n",
              "  </div>\n",
              "  "
            ]
          },
          "metadata": {},
          "execution_count": 5
        }
      ],
      "source": [
        "kia.tail()"
      ]
    },
    {
      "cell_type": "code",
      "execution_count": 8,
      "metadata": {
        "id": "WQR8Q7wI8bUx"
      },
      "outputs": [],
      "source": [
        "STOCK_CODE = '000270'"
      ]
    },
    {
      "cell_type": "code",
      "execution_count": 9,
      "metadata": {
        "id": "u1sCtxvc8bUx"
      },
      "outputs": [],
      "source": [
        "stock = fdr.DataReader(STOCK_CODE)"
      ]
    },
    {
      "cell_type": "code",
      "execution_count": 10,
      "metadata": {
        "id": "AKQgf-JO8bUx",
        "outputId": "96ab9618-f5a9-4068-c993-ed1701c9e3f2",
        "colab": {
          "base_uri": "https://localhost:8080/",
          "height": 238
        }
      },
      "outputs": [
        {
          "output_type": "execute_result",
          "data": {
            "text/plain": [
              "             Open   High    Low  Close  Volume    Change\n",
              "Date                                                    \n",
              "1998-05-07  31000  31000  29092  30141   76200       NaN\n",
              "1998-05-08  30142  30142  29092  29092   75550 -0.034803\n",
              "1998-05-09  30523  30523  30523  30523   86620  0.049189\n",
              "1998-05-11  30523  30523  29474  30523   73380  0.000000\n",
              "1998-05-12  30523  30523  29665  30523  106590  0.000000"
            ],
            "text/html": [
              "\n",
              "  <div id=\"df-95ee9954-bb96-461d-a15b-11325e1b71f9\">\n",
              "    <div class=\"colab-df-container\">\n",
              "      <div>\n",
              "<style scoped>\n",
              "    .dataframe tbody tr th:only-of-type {\n",
              "        vertical-align: middle;\n",
              "    }\n",
              "\n",
              "    .dataframe tbody tr th {\n",
              "        vertical-align: top;\n",
              "    }\n",
              "\n",
              "    .dataframe thead th {\n",
              "        text-align: right;\n",
              "    }\n",
              "</style>\n",
              "<table border=\"1\" class=\"dataframe\">\n",
              "  <thead>\n",
              "    <tr style=\"text-align: right;\">\n",
              "      <th></th>\n",
              "      <th>Open</th>\n",
              "      <th>High</th>\n",
              "      <th>Low</th>\n",
              "      <th>Close</th>\n",
              "      <th>Volume</th>\n",
              "      <th>Change</th>\n",
              "    </tr>\n",
              "    <tr>\n",
              "      <th>Date</th>\n",
              "      <th></th>\n",
              "      <th></th>\n",
              "      <th></th>\n",
              "      <th></th>\n",
              "      <th></th>\n",
              "      <th></th>\n",
              "    </tr>\n",
              "  </thead>\n",
              "  <tbody>\n",
              "    <tr>\n",
              "      <th>1998-05-07</th>\n",
              "      <td>31000</td>\n",
              "      <td>31000</td>\n",
              "      <td>29092</td>\n",
              "      <td>30141</td>\n",
              "      <td>76200</td>\n",
              "      <td>NaN</td>\n",
              "    </tr>\n",
              "    <tr>\n",
              "      <th>1998-05-08</th>\n",
              "      <td>30142</td>\n",
              "      <td>30142</td>\n",
              "      <td>29092</td>\n",
              "      <td>29092</td>\n",
              "      <td>75550</td>\n",
              "      <td>-0.034803</td>\n",
              "    </tr>\n",
              "    <tr>\n",
              "      <th>1998-05-09</th>\n",
              "      <td>30523</td>\n",
              "      <td>30523</td>\n",
              "      <td>30523</td>\n",
              "      <td>30523</td>\n",
              "      <td>86620</td>\n",
              "      <td>0.049189</td>\n",
              "    </tr>\n",
              "    <tr>\n",
              "      <th>1998-05-11</th>\n",
              "      <td>30523</td>\n",
              "      <td>30523</td>\n",
              "      <td>29474</td>\n",
              "      <td>30523</td>\n",
              "      <td>73380</td>\n",
              "      <td>0.000000</td>\n",
              "    </tr>\n",
              "    <tr>\n",
              "      <th>1998-05-12</th>\n",
              "      <td>30523</td>\n",
              "      <td>30523</td>\n",
              "      <td>29665</td>\n",
              "      <td>30523</td>\n",
              "      <td>106590</td>\n",
              "      <td>0.000000</td>\n",
              "    </tr>\n",
              "  </tbody>\n",
              "</table>\n",
              "</div>\n",
              "      <button class=\"colab-df-convert\" onclick=\"convertToInteractive('df-95ee9954-bb96-461d-a15b-11325e1b71f9')\"\n",
              "              title=\"Convert this dataframe to an interactive table.\"\n",
              "              style=\"display:none;\">\n",
              "        \n",
              "  <svg xmlns=\"http://www.w3.org/2000/svg\" height=\"24px\"viewBox=\"0 0 24 24\"\n",
              "       width=\"24px\">\n",
              "    <path d=\"M0 0h24v24H0V0z\" fill=\"none\"/>\n",
              "    <path d=\"M18.56 5.44l.94 2.06.94-2.06 2.06-.94-2.06-.94-.94-2.06-.94 2.06-2.06.94zm-11 1L8.5 8.5l.94-2.06 2.06-.94-2.06-.94L8.5 2.5l-.94 2.06-2.06.94zm10 10l.94 2.06.94-2.06 2.06-.94-2.06-.94-.94-2.06-.94 2.06-2.06.94z\"/><path d=\"M17.41 7.96l-1.37-1.37c-.4-.4-.92-.59-1.43-.59-.52 0-1.04.2-1.43.59L10.3 9.45l-7.72 7.72c-.78.78-.78 2.05 0 2.83L4 21.41c.39.39.9.59 1.41.59.51 0 1.02-.2 1.41-.59l7.78-7.78 2.81-2.81c.8-.78.8-2.07 0-2.86zM5.41 20L4 18.59l7.72-7.72 1.47 1.35L5.41 20z\"/>\n",
              "  </svg>\n",
              "      </button>\n",
              "      \n",
              "  <style>\n",
              "    .colab-df-container {\n",
              "      display:flex;\n",
              "      flex-wrap:wrap;\n",
              "      gap: 12px;\n",
              "    }\n",
              "\n",
              "    .colab-df-convert {\n",
              "      background-color: #E8F0FE;\n",
              "      border: none;\n",
              "      border-radius: 50%;\n",
              "      cursor: pointer;\n",
              "      display: none;\n",
              "      fill: #1967D2;\n",
              "      height: 32px;\n",
              "      padding: 0 0 0 0;\n",
              "      width: 32px;\n",
              "    }\n",
              "\n",
              "    .colab-df-convert:hover {\n",
              "      background-color: #E2EBFA;\n",
              "      box-shadow: 0px 1px 2px rgba(60, 64, 67, 0.3), 0px 1px 3px 1px rgba(60, 64, 67, 0.15);\n",
              "      fill: #174EA6;\n",
              "    }\n",
              "\n",
              "    [theme=dark] .colab-df-convert {\n",
              "      background-color: #3B4455;\n",
              "      fill: #D2E3FC;\n",
              "    }\n",
              "\n",
              "    [theme=dark] .colab-df-convert:hover {\n",
              "      background-color: #434B5C;\n",
              "      box-shadow: 0px 1px 3px 1px rgba(0, 0, 0, 0.15);\n",
              "      filter: drop-shadow(0px 1px 2px rgba(0, 0, 0, 0.3));\n",
              "      fill: #FFFFFF;\n",
              "    }\n",
              "  </style>\n",
              "\n",
              "      <script>\n",
              "        const buttonEl =\n",
              "          document.querySelector('#df-95ee9954-bb96-461d-a15b-11325e1b71f9 button.colab-df-convert');\n",
              "        buttonEl.style.display =\n",
              "          google.colab.kernel.accessAllowed ? 'block' : 'none';\n",
              "\n",
              "        async function convertToInteractive(key) {\n",
              "          const element = document.querySelector('#df-95ee9954-bb96-461d-a15b-11325e1b71f9');\n",
              "          const dataTable =\n",
              "            await google.colab.kernel.invokeFunction('convertToInteractive',\n",
              "                                                     [key], {});\n",
              "          if (!dataTable) return;\n",
              "\n",
              "          const docLinkHtml = 'Like what you see? Visit the ' +\n",
              "            '<a target=\"_blank\" href=https://colab.research.google.com/notebooks/data_table.ipynb>data table notebook</a>'\n",
              "            + ' to learn more about interactive tables.';\n",
              "          element.innerHTML = '';\n",
              "          dataTable['output_type'] = 'display_data';\n",
              "          await google.colab.output.renderOutput(dataTable, element);\n",
              "          const docLink = document.createElement('div');\n",
              "          docLink.innerHTML = docLinkHtml;\n",
              "          element.appendChild(docLink);\n",
              "        }\n",
              "      </script>\n",
              "    </div>\n",
              "  </div>\n",
              "  "
            ]
          },
          "metadata": {},
          "execution_count": 10
        }
      ],
      "source": [
        "stock.head()"
      ]
    },
    {
      "cell_type": "code",
      "execution_count": 11,
      "metadata": {
        "id": "fyrLPOtY8bUx",
        "outputId": "99ea75ed-320c-4cdb-cb14-a5f660f6658f",
        "colab": {
          "base_uri": "https://localhost:8080/",
          "height": 238
        }
      },
      "outputs": [
        {
          "output_type": "execute_result",
          "data": {
            "text/plain": [
              "             Open   High    Low  Close   Volume    Change\n",
              "Date                                                     \n",
              "2022-07-05  78700  79200  76600  78400  1012601 -0.001274\n",
              "2022-07-06  77700  78000  75400  75400  1447986 -0.038265\n",
              "2022-07-07  75900  76400  74600  75700  1440566  0.003979\n",
              "2022-07-08  76600  77800  76100  76800  1079764  0.014531\n",
              "2022-07-11  78300  79700  77900  78000  1248308  0.015625"
            ],
            "text/html": [
              "\n",
              "  <div id=\"df-844cd398-68a0-4c50-9471-dbddd9892391\">\n",
              "    <div class=\"colab-df-container\">\n",
              "      <div>\n",
              "<style scoped>\n",
              "    .dataframe tbody tr th:only-of-type {\n",
              "        vertical-align: middle;\n",
              "    }\n",
              "\n",
              "    .dataframe tbody tr th {\n",
              "        vertical-align: top;\n",
              "    }\n",
              "\n",
              "    .dataframe thead th {\n",
              "        text-align: right;\n",
              "    }\n",
              "</style>\n",
              "<table border=\"1\" class=\"dataframe\">\n",
              "  <thead>\n",
              "    <tr style=\"text-align: right;\">\n",
              "      <th></th>\n",
              "      <th>Open</th>\n",
              "      <th>High</th>\n",
              "      <th>Low</th>\n",
              "      <th>Close</th>\n",
              "      <th>Volume</th>\n",
              "      <th>Change</th>\n",
              "    </tr>\n",
              "    <tr>\n",
              "      <th>Date</th>\n",
              "      <th></th>\n",
              "      <th></th>\n",
              "      <th></th>\n",
              "      <th></th>\n",
              "      <th></th>\n",
              "      <th></th>\n",
              "    </tr>\n",
              "  </thead>\n",
              "  <tbody>\n",
              "    <tr>\n",
              "      <th>2022-07-05</th>\n",
              "      <td>78700</td>\n",
              "      <td>79200</td>\n",
              "      <td>76600</td>\n",
              "      <td>78400</td>\n",
              "      <td>1012601</td>\n",
              "      <td>-0.001274</td>\n",
              "    </tr>\n",
              "    <tr>\n",
              "      <th>2022-07-06</th>\n",
              "      <td>77700</td>\n",
              "      <td>78000</td>\n",
              "      <td>75400</td>\n",
              "      <td>75400</td>\n",
              "      <td>1447986</td>\n",
              "      <td>-0.038265</td>\n",
              "    </tr>\n",
              "    <tr>\n",
              "      <th>2022-07-07</th>\n",
              "      <td>75900</td>\n",
              "      <td>76400</td>\n",
              "      <td>74600</td>\n",
              "      <td>75700</td>\n",
              "      <td>1440566</td>\n",
              "      <td>0.003979</td>\n",
              "    </tr>\n",
              "    <tr>\n",
              "      <th>2022-07-08</th>\n",
              "      <td>76600</td>\n",
              "      <td>77800</td>\n",
              "      <td>76100</td>\n",
              "      <td>76800</td>\n",
              "      <td>1079764</td>\n",
              "      <td>0.014531</td>\n",
              "    </tr>\n",
              "    <tr>\n",
              "      <th>2022-07-11</th>\n",
              "      <td>78300</td>\n",
              "      <td>79700</td>\n",
              "      <td>77900</td>\n",
              "      <td>78000</td>\n",
              "      <td>1248308</td>\n",
              "      <td>0.015625</td>\n",
              "    </tr>\n",
              "  </tbody>\n",
              "</table>\n",
              "</div>\n",
              "      <button class=\"colab-df-convert\" onclick=\"convertToInteractive('df-844cd398-68a0-4c50-9471-dbddd9892391')\"\n",
              "              title=\"Convert this dataframe to an interactive table.\"\n",
              "              style=\"display:none;\">\n",
              "        \n",
              "  <svg xmlns=\"http://www.w3.org/2000/svg\" height=\"24px\"viewBox=\"0 0 24 24\"\n",
              "       width=\"24px\">\n",
              "    <path d=\"M0 0h24v24H0V0z\" fill=\"none\"/>\n",
              "    <path d=\"M18.56 5.44l.94 2.06.94-2.06 2.06-.94-2.06-.94-.94-2.06-.94 2.06-2.06.94zm-11 1L8.5 8.5l.94-2.06 2.06-.94-2.06-.94L8.5 2.5l-.94 2.06-2.06.94zm10 10l.94 2.06.94-2.06 2.06-.94-2.06-.94-.94-2.06-.94 2.06-2.06.94z\"/><path d=\"M17.41 7.96l-1.37-1.37c-.4-.4-.92-.59-1.43-.59-.52 0-1.04.2-1.43.59L10.3 9.45l-7.72 7.72c-.78.78-.78 2.05 0 2.83L4 21.41c.39.39.9.59 1.41.59.51 0 1.02-.2 1.41-.59l7.78-7.78 2.81-2.81c.8-.78.8-2.07 0-2.86zM5.41 20L4 18.59l7.72-7.72 1.47 1.35L5.41 20z\"/>\n",
              "  </svg>\n",
              "      </button>\n",
              "      \n",
              "  <style>\n",
              "    .colab-df-container {\n",
              "      display:flex;\n",
              "      flex-wrap:wrap;\n",
              "      gap: 12px;\n",
              "    }\n",
              "\n",
              "    .colab-df-convert {\n",
              "      background-color: #E8F0FE;\n",
              "      border: none;\n",
              "      border-radius: 50%;\n",
              "      cursor: pointer;\n",
              "      display: none;\n",
              "      fill: #1967D2;\n",
              "      height: 32px;\n",
              "      padding: 0 0 0 0;\n",
              "      width: 32px;\n",
              "    }\n",
              "\n",
              "    .colab-df-convert:hover {\n",
              "      background-color: #E2EBFA;\n",
              "      box-shadow: 0px 1px 2px rgba(60, 64, 67, 0.3), 0px 1px 3px 1px rgba(60, 64, 67, 0.15);\n",
              "      fill: #174EA6;\n",
              "    }\n",
              "\n",
              "    [theme=dark] .colab-df-convert {\n",
              "      background-color: #3B4455;\n",
              "      fill: #D2E3FC;\n",
              "    }\n",
              "\n",
              "    [theme=dark] .colab-df-convert:hover {\n",
              "      background-color: #434B5C;\n",
              "      box-shadow: 0px 1px 3px 1px rgba(0, 0, 0, 0.15);\n",
              "      filter: drop-shadow(0px 1px 2px rgba(0, 0, 0, 0.3));\n",
              "      fill: #FFFFFF;\n",
              "    }\n",
              "  </style>\n",
              "\n",
              "      <script>\n",
              "        const buttonEl =\n",
              "          document.querySelector('#df-844cd398-68a0-4c50-9471-dbddd9892391 button.colab-df-convert');\n",
              "        buttonEl.style.display =\n",
              "          google.colab.kernel.accessAllowed ? 'block' : 'none';\n",
              "\n",
              "        async function convertToInteractive(key) {\n",
              "          const element = document.querySelector('#df-844cd398-68a0-4c50-9471-dbddd9892391');\n",
              "          const dataTable =\n",
              "            await google.colab.kernel.invokeFunction('convertToInteractive',\n",
              "                                                     [key], {});\n",
              "          if (!dataTable) return;\n",
              "\n",
              "          const docLinkHtml = 'Like what you see? Visit the ' +\n",
              "            '<a target=\"_blank\" href=https://colab.research.google.com/notebooks/data_table.ipynb>data table notebook</a>'\n",
              "            + ' to learn more about interactive tables.';\n",
              "          element.innerHTML = '';\n",
              "          dataTable['output_type'] = 'display_data';\n",
              "          await google.colab.output.renderOutput(dataTable, element);\n",
              "          const docLink = document.createElement('div');\n",
              "          docLink.innerHTML = docLinkHtml;\n",
              "          element.appendChild(docLink);\n",
              "        }\n",
              "      </script>\n",
              "    </div>\n",
              "  </div>\n",
              "  "
            ]
          },
          "metadata": {},
          "execution_count": 11
        }
      ],
      "source": [
        "stock.tail()"
      ]
    },
    {
      "cell_type": "code",
      "execution_count": 12,
      "metadata": {
        "id": "fVOwZ9sA8bUy",
        "outputId": "5bb0213a-84e9-41e3-fa48-dab1db7d0426",
        "colab": {
          "base_uri": "https://localhost:8080/"
        }
      },
      "outputs": [
        {
          "output_type": "execute_result",
          "data": {
            "text/plain": [
              "DatetimeIndex(['1998-05-07', '1998-05-08', '1998-05-09', '1998-05-11',\n",
              "               '1998-05-12', '1998-05-13', '1998-05-14', '1998-05-15',\n",
              "               '1998-05-16', '1998-05-18',\n",
              "               ...\n",
              "               '2022-06-28', '2022-06-29', '2022-06-30', '2022-07-01',\n",
              "               '2022-07-04', '2022-07-05', '2022-07-06', '2022-07-07',\n",
              "               '2022-07-08', '2022-07-11'],\n",
              "              dtype='datetime64[ns]', name='Date', length=6000, freq=None)"
            ]
          },
          "metadata": {},
          "execution_count": 12
        }
      ],
      "source": [
        "stock.index"
      ]
    },
    {
      "cell_type": "markdown",
      "metadata": {
        "id": "bTgr472H8bUy"
      },
      "source": [
        "위에서 보시는 바와 같이 index가 `DatetimeIndex`로 지정되어 있습니다.\n",
        "\n",
        "`DatetimeIndex`로 정의되어 있다면, 아래와 같이 연도, 월, 일을 쪼갤 수 있으며, **월별, 연도별 피벗데이터**를 만들때 유용하게 활용할 수 있습니다."
      ]
    },
    {
      "cell_type": "code",
      "execution_count": 13,
      "metadata": {
        "id": "fif43Fh-0l4L"
      },
      "outputs": [],
      "source": [
        "stock['Year'] = stock.index.year\n",
        "stock['Month'] = stock.index.month\n",
        "stock['Day'] = stock.index.day"
      ]
    },
    {
      "cell_type": "code",
      "execution_count": 14,
      "metadata": {
        "colab": {
          "base_uri": "https://localhost:8080/",
          "height": 238
        },
        "id": "0yAKE9Ag0l4S",
        "outputId": "2746b61e-7fe2-4460-d8a3-ed7077e0c118"
      },
      "outputs": [
        {
          "output_type": "execute_result",
          "data": {
            "text/plain": [
              "             Open   High    Low  Close  Volume    Change  Year  Month  Day\n",
              "Date                                                                      \n",
              "1998-05-07  31000  31000  29092  30141   76200       NaN  1998      5    7\n",
              "1998-05-08  30142  30142  29092  29092   75550 -0.034803  1998      5    8\n",
              "1998-05-09  30523  30523  30523  30523   86620  0.049189  1998      5    9\n",
              "1998-05-11  30523  30523  29474  30523   73380  0.000000  1998      5   11\n",
              "1998-05-12  30523  30523  29665  30523  106590  0.000000  1998      5   12"
            ],
            "text/html": [
              "\n",
              "  <div id=\"df-33643685-8c92-4059-8247-0cb6e5701c0b\">\n",
              "    <div class=\"colab-df-container\">\n",
              "      <div>\n",
              "<style scoped>\n",
              "    .dataframe tbody tr th:only-of-type {\n",
              "        vertical-align: middle;\n",
              "    }\n",
              "\n",
              "    .dataframe tbody tr th {\n",
              "        vertical-align: top;\n",
              "    }\n",
              "\n",
              "    .dataframe thead th {\n",
              "        text-align: right;\n",
              "    }\n",
              "</style>\n",
              "<table border=\"1\" class=\"dataframe\">\n",
              "  <thead>\n",
              "    <tr style=\"text-align: right;\">\n",
              "      <th></th>\n",
              "      <th>Open</th>\n",
              "      <th>High</th>\n",
              "      <th>Low</th>\n",
              "      <th>Close</th>\n",
              "      <th>Volume</th>\n",
              "      <th>Change</th>\n",
              "      <th>Year</th>\n",
              "      <th>Month</th>\n",
              "      <th>Day</th>\n",
              "    </tr>\n",
              "    <tr>\n",
              "      <th>Date</th>\n",
              "      <th></th>\n",
              "      <th></th>\n",
              "      <th></th>\n",
              "      <th></th>\n",
              "      <th></th>\n",
              "      <th></th>\n",
              "      <th></th>\n",
              "      <th></th>\n",
              "      <th></th>\n",
              "    </tr>\n",
              "  </thead>\n",
              "  <tbody>\n",
              "    <tr>\n",
              "      <th>1998-05-07</th>\n",
              "      <td>31000</td>\n",
              "      <td>31000</td>\n",
              "      <td>29092</td>\n",
              "      <td>30141</td>\n",
              "      <td>76200</td>\n",
              "      <td>NaN</td>\n",
              "      <td>1998</td>\n",
              "      <td>5</td>\n",
              "      <td>7</td>\n",
              "    </tr>\n",
              "    <tr>\n",
              "      <th>1998-05-08</th>\n",
              "      <td>30142</td>\n",
              "      <td>30142</td>\n",
              "      <td>29092</td>\n",
              "      <td>29092</td>\n",
              "      <td>75550</td>\n",
              "      <td>-0.034803</td>\n",
              "      <td>1998</td>\n",
              "      <td>5</td>\n",
              "      <td>8</td>\n",
              "    </tr>\n",
              "    <tr>\n",
              "      <th>1998-05-09</th>\n",
              "      <td>30523</td>\n",
              "      <td>30523</td>\n",
              "      <td>30523</td>\n",
              "      <td>30523</td>\n",
              "      <td>86620</td>\n",
              "      <td>0.049189</td>\n",
              "      <td>1998</td>\n",
              "      <td>5</td>\n",
              "      <td>9</td>\n",
              "    </tr>\n",
              "    <tr>\n",
              "      <th>1998-05-11</th>\n",
              "      <td>30523</td>\n",
              "      <td>30523</td>\n",
              "      <td>29474</td>\n",
              "      <td>30523</td>\n",
              "      <td>73380</td>\n",
              "      <td>0.000000</td>\n",
              "      <td>1998</td>\n",
              "      <td>5</td>\n",
              "      <td>11</td>\n",
              "    </tr>\n",
              "    <tr>\n",
              "      <th>1998-05-12</th>\n",
              "      <td>30523</td>\n",
              "      <td>30523</td>\n",
              "      <td>29665</td>\n",
              "      <td>30523</td>\n",
              "      <td>106590</td>\n",
              "      <td>0.000000</td>\n",
              "      <td>1998</td>\n",
              "      <td>5</td>\n",
              "      <td>12</td>\n",
              "    </tr>\n",
              "  </tbody>\n",
              "</table>\n",
              "</div>\n",
              "      <button class=\"colab-df-convert\" onclick=\"convertToInteractive('df-33643685-8c92-4059-8247-0cb6e5701c0b')\"\n",
              "              title=\"Convert this dataframe to an interactive table.\"\n",
              "              style=\"display:none;\">\n",
              "        \n",
              "  <svg xmlns=\"http://www.w3.org/2000/svg\" height=\"24px\"viewBox=\"0 0 24 24\"\n",
              "       width=\"24px\">\n",
              "    <path d=\"M0 0h24v24H0V0z\" fill=\"none\"/>\n",
              "    <path d=\"M18.56 5.44l.94 2.06.94-2.06 2.06-.94-2.06-.94-.94-2.06-.94 2.06-2.06.94zm-11 1L8.5 8.5l.94-2.06 2.06-.94-2.06-.94L8.5 2.5l-.94 2.06-2.06.94zm10 10l.94 2.06.94-2.06 2.06-.94-2.06-.94-.94-2.06-.94 2.06-2.06.94z\"/><path d=\"M17.41 7.96l-1.37-1.37c-.4-.4-.92-.59-1.43-.59-.52 0-1.04.2-1.43.59L10.3 9.45l-7.72 7.72c-.78.78-.78 2.05 0 2.83L4 21.41c.39.39.9.59 1.41.59.51 0 1.02-.2 1.41-.59l7.78-7.78 2.81-2.81c.8-.78.8-2.07 0-2.86zM5.41 20L4 18.59l7.72-7.72 1.47 1.35L5.41 20z\"/>\n",
              "  </svg>\n",
              "      </button>\n",
              "      \n",
              "  <style>\n",
              "    .colab-df-container {\n",
              "      display:flex;\n",
              "      flex-wrap:wrap;\n",
              "      gap: 12px;\n",
              "    }\n",
              "\n",
              "    .colab-df-convert {\n",
              "      background-color: #E8F0FE;\n",
              "      border: none;\n",
              "      border-radius: 50%;\n",
              "      cursor: pointer;\n",
              "      display: none;\n",
              "      fill: #1967D2;\n",
              "      height: 32px;\n",
              "      padding: 0 0 0 0;\n",
              "      width: 32px;\n",
              "    }\n",
              "\n",
              "    .colab-df-convert:hover {\n",
              "      background-color: #E2EBFA;\n",
              "      box-shadow: 0px 1px 2px rgba(60, 64, 67, 0.3), 0px 1px 3px 1px rgba(60, 64, 67, 0.15);\n",
              "      fill: #174EA6;\n",
              "    }\n",
              "\n",
              "    [theme=dark] .colab-df-convert {\n",
              "      background-color: #3B4455;\n",
              "      fill: #D2E3FC;\n",
              "    }\n",
              "\n",
              "    [theme=dark] .colab-df-convert:hover {\n",
              "      background-color: #434B5C;\n",
              "      box-shadow: 0px 1px 3px 1px rgba(0, 0, 0, 0.15);\n",
              "      filter: drop-shadow(0px 1px 2px rgba(0, 0, 0, 0.3));\n",
              "      fill: #FFFFFF;\n",
              "    }\n",
              "  </style>\n",
              "\n",
              "      <script>\n",
              "        const buttonEl =\n",
              "          document.querySelector('#df-33643685-8c92-4059-8247-0cb6e5701c0b button.colab-df-convert');\n",
              "        buttonEl.style.display =\n",
              "          google.colab.kernel.accessAllowed ? 'block' : 'none';\n",
              "\n",
              "        async function convertToInteractive(key) {\n",
              "          const element = document.querySelector('#df-33643685-8c92-4059-8247-0cb6e5701c0b');\n",
              "          const dataTable =\n",
              "            await google.colab.kernel.invokeFunction('convertToInteractive',\n",
              "                                                     [key], {});\n",
              "          if (!dataTable) return;\n",
              "\n",
              "          const docLinkHtml = 'Like what you see? Visit the ' +\n",
              "            '<a target=\"_blank\" href=https://colab.research.google.com/notebooks/data_table.ipynb>data table notebook</a>'\n",
              "            + ' to learn more about interactive tables.';\n",
              "          element.innerHTML = '';\n",
              "          dataTable['output_type'] = 'display_data';\n",
              "          await google.colab.output.renderOutput(dataTable, element);\n",
              "          const docLink = document.createElement('div');\n",
              "          docLink.innerHTML = docLinkHtml;\n",
              "          element.appendChild(docLink);\n",
              "        }\n",
              "      </script>\n",
              "    </div>\n",
              "  </div>\n",
              "  "
            ]
          },
          "metadata": {},
          "execution_count": 14
        }
      ],
      "source": [
        "stock.head()"
      ]
    },
    {
      "cell_type": "markdown",
      "metadata": {
        "id": "5FBTlube0l4d"
      },
      "source": [
        "## 시각화"
      ]
    },
    {
      "cell_type": "code",
      "execution_count": 15,
      "metadata": {
        "colab": {
          "base_uri": "https://localhost:8080/",
          "height": 569
        },
        "id": "MWcaWEa80l4o",
        "outputId": "664af5b7-be6d-4f44-c5d8-d4ada2e3f228"
      },
      "outputs": [
        {
          "output_type": "execute_result",
          "data": {
            "text/plain": [
              "Text(0, 0.5, 'price')"
            ]
          },
          "metadata": {},
          "execution_count": 15
        },
        {
          "output_type": "stream",
          "name": "stderr",
          "text": [
            "findfont: Font family ['NanumGothic'] not found. Falling back to DejaVu Sans.\n"
          ]
        },
        {
          "output_type": "display_data",
          "data": {
            "text/plain": [
              "<Figure size 1152x648 with 1 Axes>"
            ],
            "image/png": "[encoded data removed]"
          },
          "metadata": {
            "needs_background": "light"
          }
        }
      ],
      "source": [
        "plt.figure(figsize=(16, 9))\n",
        "sns.lineplot(y=stock['Close'], x=stock.index)\n",
        "plt.xlabel('time')\n",
        "plt.ylabel('price')"
      ]
    },
    {
      "cell_type": "code",
      "execution_count": 16,
      "metadata": {
        "id": "bmhVqqJw8bUy",
        "outputId": "41684005-01ef-49f8-d781-79a6c6944c9c",
        "colab": {
          "base_uri": "https://localhost:8080/",
          "height": 675
        }
      },
      "outputs": [
        {
          "output_type": "stream",
          "name": "stderr",
          "text": [
            "findfont: Font family ['NanumGothic'] not found. Falling back to DejaVu Sans.\n"
          ]
        },
        {
          "output_type": "display_data",
          "data": {
            "text/plain": [
              "<Figure size 1152x648 with 4 Axes>"
            ],
            "image/png": "[encoded data removed]"
          },
          "metadata": {
            "needs_background": "light"
          }
        }
      ],
      "source": [
        "time_steps = [['1990', '2000'], # 특정기간을 설정하여 subplot 표현\n",
        "              ['2000', '2010'], \n",
        "              ['2010', '2015'], \n",
        "              ['2015', '2020']]\n",
        "\n",
        "fig, axes = plt.subplots(2, 2)\n",
        "fig.set_size_inches(16, 9)\n",
        "for i in range(4):\n",
        "    ax = axes[i//2, i%2]\n",
        "    df = stock.loc[(stock.index > time_steps[i][0]) & (stock.index < time_steps[i][1])]\n",
        "    sns.lineplot(y=df['Close'], x=df.index, ax=ax) # 선형플롯\n",
        "    ax.set_title(f'{time_steps[i][0]}~{time_steps[i][1]}')\n",
        "    ax.set_xlabel('time')\n",
        "    ax.set_ylabel('price')\n",
        "plt.tight_layout()\n",
        "plt.show()"
      ]
    },
    {
      "cell_type": "markdown",
      "metadata": {
        "id": "Fz7k20jh8bUz"
      },
      "source": [
        "## 데이터 전처리"
      ]
    },
    {
      "cell_type": "markdown",
      "metadata": {
        "id": "ufa3Y0xx8bUz"
      },
      "source": [
        "주가 데이터에 대하여 딥러닝 모델이 더 잘 학습할 수 있도록 **정규화(Normalization)**를 해주도록 하겠습니다.\n",
        "\n",
        "**표준화 (Standardization)**와 **정규화(Normalization)**에 대한 내용은 아래 링크에서 더 자세히 다루니, 참고해 보시기 바랍니다.\n",
        "\n",
        "- [데이터 전처리에 관하여](https://teddylee777.github.io/scikit-learn/scikit-learn-preprocessing)"
      ]
    },
    {
      "cell_type": "code",
      "execution_count": 17,
      "metadata": {
        "id": "4-4PgRMZ0l5Q",
        "outputId": "60ef74f7-8699-4321-e465-71406efec8bd",
        "colab": {
          "base_uri": "https://localhost:8080/"
        }
      },
      "outputs": [
        {
          "output_type": "execute_result",
          "data": {
            "text/plain": [
              "array([[0.27810958, 0.27115947, 0.27090475, 0.26641994, 0.00151937],\n",
              "       [0.26919761, 0.26235179, 0.27090475, 0.25563608, 0.00150641],\n",
              "       [0.27315502, 0.2662629 , 0.28642873, 0.27034695, 0.00172713],\n",
              "       ...,\n",
              "       [0.74448195, 0.7372068 , 0.76459102, 0.73477255, 0.02872371],\n",
              "       [0.75175279, 0.7515783 , 0.78086353, 0.7460807 , 0.02152961],\n",
              "       [0.76941054, 0.77108248, 0.80039054, 0.75841686, 0.02489024]])"
            ]
          },
          "metadata": {},
          "execution_count": 17
        }
      ],
      "source": [
        "from sklearn.preprocessing import MinMaxScaler\n",
        "\n",
        "scaler = MinMaxScaler() # MinMaxScaler 인스턴스화\n",
        "\n",
        "# 스케일을 적용할 column을 정의합니다.\n",
        "scale_cols = ['Open', 'High', 'Low', 'Close', 'Volume']\n",
        "\n",
        "# 스케일 후 columns\n",
        "scaled = scaler.fit_transform(stock[scale_cols])\n",
        "scaled"
      ]
    },
    {
      "cell_type": "markdown",
      "metadata": {
        "id": "DiY_n3uZ8bUz"
      },
      "source": [
        "스케일이 완료된 column으로 새로운 데이터프레임을 생성합니다.\n",
        "\n",
        "**시간 순으로 정렬**되어 있으며, datetime index는 제외\n",
        "\n",
        "*6,000개의 row, 5개 column*으로 이루어진 데이터셋이 DataFrame으로 정리되었습니다."
      ]
    },
    {
      "cell_type": "code",
      "execution_count": 18,
      "metadata": {
        "id": "dIJjE21B0l5m",
        "colab": {
          "base_uri": "https://localhost:8080/"
        },
        "outputId": "ac274194-4fc6-4ec7-8760-9b9ca3b93e9c"
      },
      "outputs": [
        {
          "output_type": "stream",
          "name": "stdout",
          "text": [
            "<class 'pandas.core.frame.DataFrame'>\n",
            "RangeIndex: 6000 entries, 0 to 5999\n",
            "Data columns (total 5 columns):\n",
            " #   Column  Non-Null Count  Dtype  \n",
            "---  ------  --------------  -----  \n",
            " 0   Open    6000 non-null   float64\n",
            " 1   High    6000 non-null   float64\n",
            " 2   Low     6000 non-null   float64\n",
            " 3   Close   6000 non-null   float64\n",
            " 4   Volume  6000 non-null   float64\n",
            "dtypes: float64(5)\n",
            "memory usage: 234.5 KB\n"
          ]
        }
      ],
      "source": [
        "df = pd.DataFrame(scaled, columns=scale_cols)\n",
        "df.info()"
      ]
    },
    {
      "cell_type": "markdown",
      "metadata": {
        "id": "2tn-HRL98bUz"
      },
      "source": [
        "## train / test 분할"
      ]
    },
    {
      "cell_type": "code",
      "execution_count": 19,
      "metadata": {
        "id": "vo--zFeu8bUz"
      },
      "outputs": [],
      "source": [
        "from sklearn.model_selection import train_test_split"
      ]
    },
    {
      "cell_type": "code",
      "execution_count": 20,
      "metadata": {
        "id": "KVlPZmfS8bUz"
      },
      "outputs": [],
      "source": [
        "x_train, x_test, y_train, y_test = train_test_split(df.drop('Close', 1), df['Close'], test_size=0.2, random_state=0, shuffle=False)"
      ]
    },
    {
      "cell_type": "code",
      "execution_count": 21,
      "metadata": {
        "id": "r2xqgJS78bUz",
        "outputId": "06110dbe-961c-44b5-fb97-99942947e404",
        "colab": {
          "base_uri": "https://localhost:8080/"
        }
      },
      "outputs": [
        {
          "output_type": "execute_result",
          "data": {
            "text/plain": [
              "((4800, 4), (4800,))"
            ]
          },
          "metadata": {},
          "execution_count": 21
        }
      ],
      "source": [
        "x_train.shape, y_train.shape"
      ]
    },
    {
      "cell_type": "code",
      "execution_count": 22,
      "metadata": {
        "id": "h6Co6zHg8bU0",
        "outputId": "b893aa8b-8f32-4816-f2aa-06bc56c29eab",
        "colab": {
          "base_uri": "https://localhost:8080/"
        }
      },
      "outputs": [
        {
          "output_type": "execute_result",
          "data": {
            "text/plain": [
              "((1200, 4), (1200,))"
            ]
          },
          "metadata": {},
          "execution_count": 22
        }
      ],
      "source": [
        "x_test.shape, y_test.shape"
      ]
    },
    {
      "cell_type": "code",
      "execution_count": 23,
      "metadata": {
        "id": "jnhrPUQa8bU0",
        "outputId": "eaa08f6e-90a7-4e08-f7b3-7ef7e5fb0bf1",
        "colab": {
          "base_uri": "https://localhost:8080/",
          "height": 424
        }
      },
      "outputs": [
        {
          "output_type": "execute_result",
          "data": {
            "text/plain": [
              "          Open      High       Low    Volume\n",
              "0     0.278110  0.271159  0.270905  0.001519\n",
              "1     0.269198  0.262352  0.270905  0.001506\n",
              "2     0.273155  0.266263  0.286429  0.001727\n",
              "3     0.273155  0.266263  0.275049  0.001463\n",
              "4     0.273155  0.266263  0.277121  0.002125\n",
              "...        ...       ...       ...       ...\n",
              "4795  0.321735  0.324539  0.336624  0.013428\n",
              "4796  0.327447  0.320946  0.336082  0.012469\n",
              "4797  0.323812  0.317354  0.334454  0.012406\n",
              "4798  0.322773  0.317867  0.337166  0.008873\n",
              "4799  0.326928  0.322486  0.339878  0.009843\n",
              "\n",
              "[4800 rows x 4 columns]"
            ],
            "text/html": [
              "\n",
              "  <div id=\"df-0b081a9f-b814-439f-86b2-36b77c513c29\">\n",
              "    <div class=\"colab-df-container\">\n",
              "      <div>\n",
              "<style scoped>\n",
              "    .dataframe tbody tr th:only-of-type {\n",
              "        vertical-align: middle;\n",
              "    }\n",
              "\n",
              "    .dataframe tbody tr th {\n",
              "        vertical-align: top;\n",
              "    }\n",
              "\n",
              "    .dataframe thead th {\n",
              "        text-align: right;\n",
              "    }\n",
              "</style>\n",
              "<table border=\"1\" class=\"dataframe\">\n",
              "  <thead>\n",
              "    <tr style=\"text-align: right;\">\n",
              "      <th></th>\n",
              "      <th>Open</th>\n",
              "      <th>High</th>\n",
              "      <th>Low</th>\n",
              "      <th>Volume</th>\n",
              "    </tr>\n",
              "  </thead>\n",
              "  <tbody>\n",
              "    <tr>\n",
              "      <th>0</th>\n",
              "      <td>0.278110</td>\n",
              "      <td>0.271159</td>\n",
              "      <td>0.270905</td>\n",
              "      <td>0.001519</td>\n",
              "    </tr>\n",
              "    <tr>\n",
              "      <th>1</th>\n",
              "      <td>0.269198</td>\n",
              "      <td>0.262352</td>\n",
              "      <td>0.270905</td>\n",
              "      <td>0.001506</td>\n",
              "    </tr>\n",
              "    <tr>\n",
              "      <th>2</th>\n",
              "      <td>0.273155</td>\n",
              "      <td>0.266263</td>\n",
              "      <td>0.286429</td>\n",
              "      <td>0.001727</td>\n",
              "    </tr>\n",
              "    <tr>\n",
              "      <th>3</th>\n",
              "      <td>0.273155</td>\n",
              "      <td>0.266263</td>\n",
              "      <td>0.275049</td>\n",
              "      <td>0.001463</td>\n",
              "    </tr>\n",
              "    <tr>\n",
              "      <th>4</th>\n",
              "      <td>0.273155</td>\n",
              "      <td>0.266263</td>\n",
              "      <td>0.277121</td>\n",
              "      <td>0.002125</td>\n",
              "    </tr>\n",
              "    <tr>\n",
              "      <th>...</th>\n",
              "      <td>...</td>\n",
              "      <td>...</td>\n",
              "      <td>...</td>\n",
              "      <td>...</td>\n",
              "    </tr>\n",
              "    <tr>\n",
              "      <th>4795</th>\n",
              "      <td>0.321735</td>\n",
              "      <td>0.324539</td>\n",
              "      <td>0.336624</td>\n",
              "      <td>0.013428</td>\n",
              "    </tr>\n",
              "    <tr>\n",
              "      <th>4796</th>\n",
              "      <td>0.327447</td>\n",
              "      <td>0.320946</td>\n",
              "      <td>0.336082</td>\n",
              "      <td>0.012469</td>\n",
              "    </tr>\n",
              "    <tr>\n",
              "      <th>4797</th>\n",
              "      <td>0.323812</td>\n",
              "      <td>0.317354</td>\n",
              "      <td>0.334454</td>\n",
              "      <td>0.012406</td>\n",
              "    </tr>\n",
              "    <tr>\n",
              "      <th>4798</th>\n",
              "      <td>0.322773</td>\n",
              "      <td>0.317867</td>\n",
              "      <td>0.337166</td>\n",
              "      <td>0.008873</td>\n",
              "    </tr>\n",
              "    <tr>\n",
              "      <th>4799</th>\n",
              "      <td>0.326928</td>\n",
              "      <td>0.322486</td>\n",
              "      <td>0.339878</td>\n",
              "      <td>0.009843</td>\n",
              "    </tr>\n",
              "  </tbody>\n",
              "</table>\n",
              "<p>4800 rows × 4 columns</p>\n",
              "</div>\n",
              "      <button class=\"colab-df-convert\" onclick=\"convertToInteractive('df-0b081a9f-b814-439f-86b2-36b77c513c29')\"\n",
              "              title=\"Convert this dataframe to an interactive table.\"\n",
              "              style=\"display:none;\">\n",
              "        \n",
              "  <svg xmlns=\"http://www.w3.org/2000/svg\" height=\"24px\"viewBox=\"0 0 24 24\"\n",
              "       width=\"24px\">\n",
              "    <path d=\"M0 0h24v24H0V0z\" fill=\"none\"/>\n",
              "    <path d=\"M18.56 5.44l.94 2.06.94-2.06 2.06-.94-2.06-.94-.94-2.06-.94 2.06-2.06.94zm-11 1L8.5 8.5l.94-2.06 2.06-.94-2.06-.94L8.5 2.5l-.94 2.06-2.06.94zm10 10l.94 2.06.94-2.06 2.06-.94-2.06-.94-.94-2.06-.94 2.06-2.06.94z\"/><path d=\"M17.41 7.96l-1.37-1.37c-.4-.4-.92-.59-1.43-.59-.52 0-1.04.2-1.43.59L10.3 9.45l-7.72 7.72c-.78.78-.78 2.05 0 2.83L4 21.41c.39.39.9.59 1.41.59.51 0 1.02-.2 1.41-.59l7.78-7.78 2.81-2.81c.8-.78.8-2.07 0-2.86zM5.41 20L4 18.59l7.72-7.72 1.47 1.35L5.41 20z\"/>\n",
              "  </svg>\n",
              "      </button>\n",
              "      \n",
              "  <style>\n",
              "    .colab-df-container {\n",
              "      display:flex;\n",
              "      flex-wrap:wrap;\n",
              "      gap: 12px;\n",
              "    }\n",
              "\n",
              "    .colab-df-convert {\n",
              "      background-color: #E8F0FE;\n",
              "      border: none;\n",
              "      border-radius: 50%;\n",
              "      cursor: pointer;\n",
              "      display: none;\n",
              "      fill: #1967D2;\n",
              "      height: 32px;\n",
              "      padding: 0 0 0 0;\n",
              "      width: 32px;\n",
              "    }\n",
              "\n",
              "    .colab-df-convert:hover {\n",
              "      background-color: #E2EBFA;\n",
              "      box-shadow: 0px 1px 2px rgba(60, 64, 67, 0.3), 0px 1px 3px 1px rgba(60, 64, 67, 0.15);\n",
              "      fill: #174EA6;\n",
              "    }\n",
              "\n",
              "    [theme=dark] .colab-df-convert {\n",
              "      background-color: #3B4455;\n",
              "      fill: #D2E3FC;\n",
              "    }\n",
              "\n",
              "    [theme=dark] .colab-df-convert:hover {\n",
              "      background-color: #434B5C;\n",
              "      box-shadow: 0px 1px 3px 1px rgba(0, 0, 0, 0.15);\n",
              "      filter: drop-shadow(0px 1px 2px rgba(0, 0, 0, 0.3));\n",
              "      fill: #FFFFFF;\n",
              "    }\n",
              "  </style>\n",
              "\n",
              "      <script>\n",
              "        const buttonEl =\n",
              "          document.querySelector('#df-0b081a9f-b814-439f-86b2-36b77c513c29 button.colab-df-convert');\n",
              "        buttonEl.style.display =\n",
              "          google.colab.kernel.accessAllowed ? 'block' : 'none';\n",
              "\n",
              "        async function convertToInteractive(key) {\n",
              "          const element = document.querySelector('#df-0b081a9f-b814-439f-86b2-36b77c513c29');\n",
              "          const dataTable =\n",
              "            await google.colab.kernel.invokeFunction('convertToInteractive',\n",
              "                                                     [key], {});\n",
              "          if (!dataTable) return;\n",
              "\n",
              "          const docLinkHtml = 'Like what you see? Visit the ' +\n",
              "            '<a target=\"_blank\" href=https://colab.research.google.com/notebooks/data_table.ipynb>data table notebook</a>'\n",
              "            + ' to learn more about interactive tables.';\n",
              "          element.innerHTML = '';\n",
              "          dataTable['output_type'] = 'display_data';\n",
              "          await google.colab.output.renderOutput(dataTable, element);\n",
              "          const docLink = document.createElement('div');\n",
              "          docLink.innerHTML = docLinkHtml;\n",
              "          element.appendChild(docLink);\n",
              "        }\n",
              "      </script>\n",
              "    </div>\n",
              "  </div>\n",
              "  "
            ]
          },
          "metadata": {},
          "execution_count": 23
        }
      ],
      "source": [
        "x_train"
      ]
    },
    {
      "cell_type": "markdown",
      "metadata": {
        "id": "iLCpf4Uf8bU0"
      },
      "source": [
        "## TensroFlow Dataset을 활용한 시퀀스 데이터셋 구성"
      ]
    },
    {
      "cell_type": "code",
      "execution_count": 24,
      "metadata": {
        "id": "vaeaq5mK8bU0"
      },
      "outputs": [],
      "source": [
        "import tensorflow as tf"
      ]
    },
    {
      "cell_type": "code",
      "execution_count": 25,
      "metadata": {
        "id": "PHqUcRAM8bU0"
      },
      "outputs": [],
      "source": [
        "def windowed_dataset(series, window_size, batch_size, shuffle):\n",
        "    series = tf.expand_dims(series, axis=-1)\n",
        "    ds = tf.data.Dataset.from_tensor_slices(series)\n",
        "    ds = ds.window(window_size + 1, shift=1, drop_remainder=True)\n",
        "    ds = ds.flat_map(lambda w: w.batch(window_size + 1))\n",
        "    if shuffle:\n",
        "        ds = ds.shuffle(1000)\n",
        "    ds = ds.map(lambda w: (w[:-1], w[-1]))\n",
        "    return ds.batch(batch_size).prefetch(1)"
      ]
    },
    {
      "cell_type": "markdown",
      "metadata": {
        "id": "M5xr8Utj8bU0"
      },
      "source": [
        "Hyperparameter를 정의합니다."
      ]
    },
    {
      "cell_type": "code",
      "execution_count": 26,
      "metadata": {
        "id": "wknnGf098bU0"
      },
      "outputs": [],
      "source": [
        "WINDOW_SIZE=20\n",
        "BATCH_SIZE=32"
      ]
    },
    {
      "cell_type": "code",
      "execution_count": 27,
      "metadata": {
        "id": "l-wO0fly8bU0"
      },
      "outputs": [],
      "source": [
        "# train_data는 학습용 데이터셋, test_data는 검증용 데이터셋 입니다.\n",
        "train_data = windowed_dataset(y_train, WINDOW_SIZE, BATCH_SIZE, True)\n",
        "test_data = windowed_dataset(y_test, WINDOW_SIZE, BATCH_SIZE, False)"
      ]
    },
    {
      "cell_type": "code",
      "execution_count": 28,
      "metadata": {
        "id": "-hfAGXaF8bU0",
        "outputId": "012a1ace-8e2e-4341-abf9-b155df74a93e",
        "colab": {
          "base_uri": "https://localhost:8080/"
        }
      },
      "outputs": [
        {
          "output_type": "stream",
          "name": "stdout",
          "text": [
            "데이터셋(X) 구성(batch_size, window_size, feature갯수): (32, 20, 1)\n",
            "데이터셋(Y) 구성(batch_size, window_size, feature갯수): (32, 1)\n"
          ]
        }
      ],
      "source": [
        "# 아래의 코드로 데이터셋의 구성을 확인해 볼 수 있습니다.\n",
        "# X: (batch_size, window_size, feature)\n",
        "# Y: (batch_size, feature)\n",
        "for data in train_data.take(1):\n",
        "    print(f'데이터셋(X) 구성(batch_size, window_size, feature갯수): {data[0].shape}')\n",
        "    print(f'데이터셋(Y) 구성(batch_size, window_size, feature갯수): {data[1].shape}')"
      ]
    },
    {
      "cell_type": "markdown",
      "metadata": {
        "id": "M0bev95S8bU0"
      },
      "source": [
        "## 모델"
      ]
    },
    {
      "cell_type": "code",
      "execution_count": 29,
      "metadata": {
        "id": "mAkmGu1j0l8M"
      },
      "outputs": [],
      "source": [
        "from tensorflow.keras.models import Sequential\n",
        "from tensorflow.keras.layers import Dense, LSTM, Conv1D, Lambda\n",
        "from tensorflow.keras.losses import Huber\n",
        "from tensorflow.keras.optimizers import Adam\n",
        "from tensorflow.keras.callbacks import EarlyStopping, ModelCheckpoint\n",
        "\n",
        "\n",
        "model = Sequential([\n",
        "    # 1차원 feature map 생성\n",
        "    Conv1D(filters=32, kernel_size=5,\n",
        "           padding=\"causal\",\n",
        "           activation=\"relu\",\n",
        "           input_shape=[WINDOW_SIZE, 1]),\n",
        "    # LSTM\n",
        "    LSTM(16, activation='tanh'),\n",
        "    Dense(16, activation=\"relu\"),\n",
        "    Dense(1),\n",
        "])"
      ]
    },
    {
      "cell_type": "code",
      "execution_count": 30,
      "metadata": {
        "id": "xShll_EX0l8T"
      },
      "outputs": [],
      "source": [
        "# Sequence 학습에 비교적 좋은 퍼포먼스를 내는 Huber()를 사용합니다.\n",
        "loss = Huber()\n",
        "optimizer = Adam(0.0005)\n",
        "model.compile(loss=Huber(), optimizer=optimizer, metrics=['mse'])"
      ]
    },
    {
      "cell_type": "code",
      "execution_count": 31,
      "metadata": {
        "id": "6qrMbXx58bU1"
      },
      "outputs": [],
      "source": [
        "# earlystopping은 10번 epoch통안 val_loss 개선이 없다면 학습을 멈춥니다.\n",
        "earlystopping = EarlyStopping(monitor='val_loss', patience=10)\n",
        "# val_loss 기준 체크포인터도 생성합니다.\n",
        "filename = os.path.join('tmp', 'ckeckpointer.ckpt')\n",
        "checkpoint = ModelCheckpoint(filename, \n",
        "                             save_weights_only=True, \n",
        "                             save_best_only=True, \n",
        "                             monitor='val_loss', \n",
        "                             verbose=1)"
      ]
    },
    {
      "cell_type": "code",
      "execution_count": 32,
      "metadata": {
        "colab": {
          "base_uri": "https://localhost:8080/"
        },
        "outputId": "04efb88e-c0e7-4e02-ff1f-6522a20c8f25",
        "id": "Lz-iuu2b8bU1"
      },
      "outputs": [
        {
          "output_type": "stream",
          "name": "stdout",
          "text": [
            "Epoch 1/50\n",
            "    150/Unknown - 17s 7ms/step - loss: 2.0860e-04 - mse: 4.1720e-04\n",
            "Epoch 1: val_loss improved from inf to 0.00034, saving model to tmp/ckeckpointer.ckpt\n",
            "150/150 [==============================] - 18s 14ms/step - loss: 2.0860e-04 - mse: 4.1720e-04 - val_loss: 3.4247e-04 - val_mse: 6.8494e-04\n",
            "Epoch 2/50\n",
            "142/150 [===========================>..] - ETA: 0s - loss: 1.2820e-04 - mse: 2.5640e-04\n",
            "Epoch 2: val_loss did not improve from 0.00034\n",
            "150/150 [==============================] - 1s 8ms/step - loss: 1.2979e-04 - mse: 2.5958e-04 - val_loss: 4.2264e-04 - val_mse: 8.4529e-04\n",
            "Epoch 3/50\n",
            "144/150 [===========================>..] - ETA: 0s - loss: 1.1504e-04 - mse: 2.3009e-04\n",
            "Epoch 3: val_loss did not improve from 0.00034\n",
            "150/150 [==============================] - 1s 8ms/step - loss: 1.1711e-04 - mse: 2.3422e-04 - val_loss: 4.3322e-04 - val_mse: 8.6644e-04\n",
            "Epoch 4/50\n",
            "145/150 [============================>.] - ETA: 0s - loss: 9.8880e-05 - mse: 1.9776e-04\n",
            "Epoch 4: val_loss improved from 0.00034 to 0.00032, saving model to tmp/ckeckpointer.ckpt\n",
            "150/150 [==============================] - 1s 8ms/step - loss: 9.8980e-05 - mse: 1.9796e-04 - val_loss: 3.2146e-04 - val_mse: 6.4291e-04\n",
            "Epoch 5/50\n",
            "143/150 [===========================>..] - ETA: 0s - loss: 9.3770e-05 - mse: 1.8754e-04\n",
            "Epoch 5: val_loss improved from 0.00032 to 0.00026, saving model to tmp/ckeckpointer.ckpt\n",
            "150/150 [==============================] - 1s 8ms/step - loss: 9.3210e-05 - mse: 1.8642e-04 - val_loss: 2.6086e-04 - val_mse: 5.2171e-04\n",
            "Epoch 6/50\n",
            "146/150 [============================>.] - ETA: 0s - loss: 8.5237e-05 - mse: 1.7047e-04\n",
            "Epoch 6: val_loss improved from 0.00026 to 0.00020, saving model to tmp/ckeckpointer.ckpt\n",
            "150/150 [==============================] - 1s 8ms/step - loss: 8.5912e-05 - mse: 1.7182e-04 - val_loss: 1.9508e-04 - val_mse: 3.9015e-04\n",
            "Epoch 7/50\n",
            "150/150 [==============================] - ETA: 0s - loss: 7.6870e-05 - mse: 1.5374e-04\n",
            "Epoch 7: val_loss did not improve from 0.00020\n",
            "150/150 [==============================] - 1s 8ms/step - loss: 7.6870e-05 - mse: 1.5374e-04 - val_loss: 2.1823e-04 - val_mse: 4.3646e-04\n",
            "Epoch 8/50\n",
            "142/150 [===========================>..] - ETA: 0s - loss: 7.2024e-05 - mse: 1.4405e-04\n",
            "Epoch 8: val_loss improved from 0.00020 to 0.00017, saving model to tmp/ckeckpointer.ckpt\n",
            "150/150 [==============================] - 1s 8ms/step - loss: 7.2353e-05 - mse: 1.4471e-04 - val_loss: 1.6907e-04 - val_mse: 3.3814e-04\n",
            "Epoch 9/50\n",
            "143/150 [===========================>..] - ETA: 0s - loss: 6.3120e-05 - mse: 1.2624e-04\n",
            "Epoch 9: val_loss improved from 0.00017 to 0.00016, saving model to tmp/ckeckpointer.ckpt\n",
            "150/150 [==============================] - 1s 9ms/step - loss: 6.3369e-05 - mse: 1.2674e-04 - val_loss: 1.6148e-04 - val_mse: 3.2295e-04\n",
            "Epoch 10/50\n",
            "144/150 [===========================>..] - ETA: 0s - loss: 6.7299e-05 - mse: 1.3460e-04\n",
            "Epoch 10: val_loss did not improve from 0.00016\n",
            "150/150 [==============================] - 1s 8ms/step - loss: 6.7564e-05 - mse: 1.3513e-04 - val_loss: 1.7136e-04 - val_mse: 3.4271e-04\n",
            "Epoch 11/50\n",
            "144/150 [===========================>..] - ETA: 0s - loss: 6.0571e-05 - mse: 1.2114e-04\n",
            "Epoch 11: val_loss improved from 0.00016 to 0.00015, saving model to tmp/ckeckpointer.ckpt\n",
            "150/150 [==============================] - 1s 8ms/step - loss: 6.0816e-05 - mse: 1.2163e-04 - val_loss: 1.5213e-04 - val_mse: 3.0426e-04\n",
            "Epoch 12/50\n",
            "145/150 [============================>.] - ETA: 0s - loss: 6.1350e-05 - mse: 1.2270e-04\n",
            "Epoch 12: val_loss did not improve from 0.00015\n",
            "150/150 [==============================] - 1s 8ms/step - loss: 6.1230e-05 - mse: 1.2246e-04 - val_loss: 1.8475e-04 - val_mse: 3.6950e-04\n",
            "Epoch 13/50\n",
            "146/150 [============================>.] - ETA: 0s - loss: 5.2202e-05 - mse: 1.0440e-04\n",
            "Epoch 13: val_loss improved from 0.00015 to 0.00014, saving model to tmp/ckeckpointer.ckpt\n",
            "150/150 [==============================] - 1s 8ms/step - loss: 5.2477e-05 - mse: 1.0495e-04 - val_loss: 1.3856e-04 - val_mse: 2.7713e-04\n",
            "Epoch 14/50\n",
            "145/150 [============================>.] - ETA: 0s - loss: 5.4154e-05 - mse: 1.0831e-04\n",
            "Epoch 14: val_loss improved from 0.00014 to 0.00013, saving model to tmp/ckeckpointer.ckpt\n",
            "150/150 [==============================] - 1s 8ms/step - loss: 5.4585e-05 - mse: 1.0917e-04 - val_loss: 1.3282e-04 - val_mse: 2.6565e-04\n",
            "Epoch 15/50\n",
            "146/150 [============================>.] - ETA: 0s - loss: 5.1782e-05 - mse: 1.0356e-04\n",
            "Epoch 15: val_loss improved from 0.00013 to 0.00013, saving model to tmp/ckeckpointer.ckpt\n",
            "150/150 [==============================] - 1s 8ms/step - loss: 5.2099e-05 - mse: 1.0420e-04 - val_loss: 1.2885e-04 - val_mse: 2.5769e-04\n",
            "Epoch 16/50\n",
            "141/150 [===========================>..] - ETA: 0s - loss: 5.2063e-05 - mse: 1.0413e-04\n",
            "Epoch 16: val_loss did not improve from 0.00013\n",
            "150/150 [==============================] - 1s 8ms/step - loss: 5.3936e-05 - mse: 1.0787e-04 - val_loss: 1.4119e-04 - val_mse: 2.8238e-04\n",
            "Epoch 17/50\n",
            "143/150 [===========================>..] - ETA: 0s - loss: 4.7335e-05 - mse: 9.4671e-05\n",
            "Epoch 17: val_loss did not improve from 0.00013\n",
            "150/150 [==============================] - 1s 8ms/step - loss: 4.7339e-05 - mse: 9.4677e-05 - val_loss: 1.2973e-04 - val_mse: 2.5945e-04\n",
            "Epoch 18/50\n",
            "140/150 [===========================>..] - ETA: 0s - loss: 5.2239e-05 - mse: 1.0448e-04\n",
            "Epoch 18: val_loss did not improve from 0.00013\n",
            "150/150 [==============================] - 1s 8ms/step - loss: 5.2888e-05 - mse: 1.0578e-04 - val_loss: 1.3506e-04 - val_mse: 2.7013e-04\n",
            "Epoch 19/50\n",
            "147/150 [============================>.] - ETA: 0s - loss: 4.8768e-05 - mse: 9.7537e-05\n",
            "Epoch 19: val_loss did not improve from 0.00013\n",
            "150/150 [==============================] - 1s 8ms/step - loss: 4.9017e-05 - mse: 9.8035e-05 - val_loss: 1.2913e-04 - val_mse: 2.5825e-04\n",
            "Epoch 20/50\n",
            "141/150 [===========================>..] - ETA: 0s - loss: 5.0842e-05 - mse: 1.0168e-04\n",
            "Epoch 20: val_loss did not improve from 0.00013\n",
            "150/150 [==============================] - 1s 8ms/step - loss: 5.1260e-05 - mse: 1.0252e-04 - val_loss: 1.3366e-04 - val_mse: 2.6732e-04\n",
            "Epoch 21/50\n",
            "142/150 [===========================>..] - ETA: 0s - loss: 4.4036e-05 - mse: 8.8073e-05\n",
            "Epoch 21: val_loss improved from 0.00013 to 0.00012, saving model to tmp/ckeckpointer.ckpt\n",
            "150/150 [==============================] - 1s 9ms/step - loss: 4.4802e-05 - mse: 8.9604e-05 - val_loss: 1.1923e-04 - val_mse: 2.3845e-04\n",
            "Epoch 22/50\n",
            "141/150 [===========================>..] - ETA: 0s - loss: 4.9108e-05 - mse: 9.8215e-05\n",
            "Epoch 22: val_loss improved from 0.00012 to 0.00012, saving model to tmp/ckeckpointer.ckpt\n",
            "150/150 [==============================] - 1s 8ms/step - loss: 5.0148e-05 - mse: 1.0030e-04 - val_loss: 1.1700e-04 - val_mse: 2.3400e-04\n",
            "Epoch 23/50\n",
            "146/150 [============================>.] - ETA: 0s - loss: 4.3815e-05 - mse: 8.7629e-05\n",
            "Epoch 23: val_loss did not improve from 0.00012\n",
            "150/150 [==============================] - 1s 8ms/step - loss: 4.4072e-05 - mse: 8.8144e-05 - val_loss: 1.2575e-04 - val_mse: 2.5149e-04\n",
            "Epoch 24/50\n",
            "146/150 [============================>.] - ETA: 0s - loss: 5.4939e-05 - mse: 1.0988e-04\n",
            "Epoch 24: val_loss improved from 0.00012 to 0.00011, saving model to tmp/ckeckpointer.ckpt\n",
            "150/150 [==============================] - 1s 9ms/step - loss: 5.4857e-05 - mse: 1.0971e-04 - val_loss: 1.1222e-04 - val_mse: 2.2445e-04\n",
            "Epoch 25/50\n",
            "142/150 [===========================>..] - ETA: 0s - loss: 4.3393e-05 - mse: 8.6785e-05\n",
            "Epoch 25: val_loss improved from 0.00011 to 0.00011, saving model to tmp/ckeckpointer.ckpt\n",
            "150/150 [==============================] - 1s 8ms/step - loss: 4.3612e-05 - mse: 8.7225e-05 - val_loss: 1.1070e-04 - val_mse: 2.2139e-04\n",
            "Epoch 26/50\n",
            "146/150 [============================>.] - ETA: 0s - loss: 4.2641e-05 - mse: 8.5281e-05\n",
            "Epoch 26: val_loss did not improve from 0.00011\n",
            "150/150 [==============================] - 1s 8ms/step - loss: 4.3031e-05 - mse: 8.6062e-05 - val_loss: 2.1058e-04 - val_mse: 4.2115e-04\n",
            "Epoch 27/50\n",
            "150/150 [==============================] - ETA: 0s - loss: 4.2307e-05 - mse: 8.4613e-05\n",
            "Epoch 27: val_loss did not improve from 0.00011\n",
            "150/150 [==============================] - 1s 8ms/step - loss: 4.2307e-05 - mse: 8.4613e-05 - val_loss: 1.1126e-04 - val_mse: 2.2251e-04\n",
            "Epoch 28/50\n",
            "144/150 [===========================>..] - ETA: 0s - loss: 4.6230e-05 - mse: 9.2459e-05\n",
            "Epoch 28: val_loss did not improve from 0.00011\n",
            "150/150 [==============================] - 1s 8ms/step - loss: 4.7268e-05 - mse: 9.4536e-05 - val_loss: 1.1175e-04 - val_mse: 2.2351e-04\n",
            "Epoch 29/50\n",
            "143/150 [===========================>..] - ETA: 0s - loss: 4.2635e-05 - mse: 8.5271e-05\n",
            "Epoch 29: val_loss did not improve from 0.00011\n",
            "150/150 [==============================] - 1s 8ms/step - loss: 4.2959e-05 - mse: 8.5919e-05 - val_loss: 1.1220e-04 - val_mse: 2.2439e-04\n",
            "Epoch 30/50\n",
            "144/150 [===========================>..] - ETA: 0s - loss: 3.8783e-05 - mse: 7.7565e-05\n",
            "Epoch 30: val_loss did not improve from 0.00011\n",
            "150/150 [==============================] - 1s 9ms/step - loss: 3.9335e-05 - mse: 7.8670e-05 - val_loss: 1.1738e-04 - val_mse: 2.3476e-04\n",
            "Epoch 31/50\n",
            "150/150 [==============================] - ETA: 0s - loss: 4.1071e-05 - mse: 8.2142e-05\n",
            "Epoch 31: val_loss did not improve from 0.00011\n",
            "150/150 [==============================] - 1s 8ms/step - loss: 4.1071e-05 - mse: 8.2142e-05 - val_loss: 1.3281e-04 - val_mse: 2.6563e-04\n",
            "Epoch 32/50\n",
            "147/150 [============================>.] - ETA: 0s - loss: 3.7506e-05 - mse: 7.5013e-05\n",
            "Epoch 32: val_loss did not improve from 0.00011\n",
            "150/150 [==============================] - 1s 8ms/step - loss: 3.7305e-05 - mse: 7.4611e-05 - val_loss: 1.2861e-04 - val_mse: 2.5722e-04\n",
            "Epoch 33/50\n",
            "147/150 [============================>.] - ETA: 0s - loss: 4.6371e-05 - mse: 9.2742e-05\n",
            "Epoch 33: val_loss did not improve from 0.00011\n",
            "150/150 [==============================] - 1s 8ms/step - loss: 4.6282e-05 - mse: 9.2563e-05 - val_loss: 1.1365e-04 - val_mse: 2.2730e-04\n",
            "Epoch 34/50\n",
            "144/150 [===========================>..] - ETA: 0s - loss: 3.7522e-05 - mse: 7.5043e-05\n",
            "Epoch 34: val_loss did not improve from 0.00011\n",
            "150/150 [==============================] - 1s 8ms/step - loss: 3.7838e-05 - mse: 7.5676e-05 - val_loss: 1.2014e-04 - val_mse: 2.4028e-04\n",
            "Epoch 35/50\n",
            "141/150 [===========================>..] - ETA: 0s - loss: 3.7145e-05 - mse: 7.4289e-05\n",
            "Epoch 35: val_loss improved from 0.00011 to 0.00010, saving model to tmp/ckeckpointer.ckpt\n",
            "150/150 [==============================] - 1s 8ms/step - loss: 3.9052e-05 - mse: 7.8103e-05 - val_loss: 1.0111e-04 - val_mse: 2.0222e-04\n",
            "Epoch 36/50\n",
            "144/150 [===========================>..] - ETA: 0s - loss: 3.6752e-05 - mse: 7.3503e-05\n",
            "Epoch 36: val_loss improved from 0.00010 to 0.00010, saving model to tmp/ckeckpointer.ckpt\n",
            "150/150 [==============================] - 1s 8ms/step - loss: 3.6930e-05 - mse: 7.3859e-05 - val_loss: 1.0082e-04 - val_mse: 2.0164e-04\n",
            "Epoch 37/50\n",
            "144/150 [===========================>..] - ETA: 0s - loss: 3.6278e-05 - mse: 7.2557e-05\n",
            "Epoch 37: val_loss did not improve from 0.00010\n",
            "150/150 [==============================] - 1s 8ms/step - loss: 3.6437e-05 - mse: 7.2874e-05 - val_loss: 1.3056e-04 - val_mse: 2.6113e-04\n",
            "Epoch 38/50\n",
            "146/150 [============================>.] - ETA: 0s - loss: 3.8130e-05 - mse: 7.6260e-05\n",
            "Epoch 38: val_loss improved from 0.00010 to 0.00010, saving model to tmp/ckeckpointer.ckpt\n",
            "150/150 [==============================] - 2s 9ms/step - loss: 3.8676e-05 - mse: 7.7352e-05 - val_loss: 9.9667e-05 - val_mse: 1.9933e-04\n",
            "Epoch 39/50\n",
            "145/150 [============================>.] - ETA: 0s - loss: 3.5940e-05 - mse: 7.1881e-05\n",
            "Epoch 39: val_loss did not improve from 0.00010\n",
            "150/150 [==============================] - 1s 8ms/step - loss: 3.6309e-05 - mse: 7.2618e-05 - val_loss: 1.1475e-04 - val_mse: 2.2951e-04\n",
            "Epoch 40/50\n",
            "150/150 [==============================] - ETA: 0s - loss: 3.7317e-05 - mse: 7.4633e-05\n",
            "Epoch 40: val_loss did not improve from 0.00010\n",
            "150/150 [==============================] - 1s 8ms/step - loss: 3.7317e-05 - mse: 7.4633e-05 - val_loss: 1.0386e-04 - val_mse: 2.0771e-04\n",
            "Epoch 41/50\n",
            "145/150 [============================>.] - ETA: 0s - loss: 3.7331e-05 - mse: 7.4662e-05\n",
            "Epoch 41: val_loss did not improve from 0.00010\n",
            "150/150 [==============================] - 1s 8ms/step - loss: 3.7620e-05 - mse: 7.5239e-05 - val_loss: 1.1391e-04 - val_mse: 2.2782e-04\n",
            "Epoch 42/50\n",
            "148/150 [============================>.] - ETA: 0s - loss: 3.5638e-05 - mse: 7.1276e-05\n",
            "Epoch 42: val_loss did not improve from 0.00010\n",
            "150/150 [==============================] - 2s 13ms/step - loss: 3.5665e-05 - mse: 7.1330e-05 - val_loss: 1.0510e-04 - val_mse: 2.1021e-04\n",
            "Epoch 43/50\n",
            "150/150 [==============================] - ETA: 0s - loss: 4.0002e-05 - mse: 8.0004e-05\n",
            "Epoch 43: val_loss did not improve from 0.00010\n",
            "150/150 [==============================] - 2s 12ms/step - loss: 4.0002e-05 - mse: 8.0004e-05 - val_loss: 1.2505e-04 - val_mse: 2.5010e-04\n",
            "Epoch 44/50\n",
            "141/150 [===========================>..] - ETA: 0s - loss: 4.2949e-05 - mse: 8.5897e-05\n",
            "Epoch 44: val_loss did not improve from 0.00010\n",
            "150/150 [==============================] - 1s 8ms/step - loss: 4.3154e-05 - mse: 8.6308e-05 - val_loss: 1.0041e-04 - val_mse: 2.0081e-04\n",
            "Epoch 45/50\n",
            "145/150 [============================>.] - ETA: 0s - loss: 3.3148e-05 - mse: 6.6296e-05\n",
            "Epoch 45: val_loss improved from 0.00010 to 0.00010, saving model to tmp/ckeckpointer.ckpt\n",
            "150/150 [==============================] - 1s 8ms/step - loss: 3.3713e-05 - mse: 6.7425e-05 - val_loss: 9.9636e-05 - val_mse: 1.9927e-04\n",
            "Epoch 46/50\n",
            "143/150 [===========================>..] - ETA: 0s - loss: 3.3617e-05 - mse: 6.7234e-05\n",
            "Epoch 46: val_loss did not improve from 0.00010\n",
            "150/150 [==============================] - 1s 8ms/step - loss: 3.3893e-05 - mse: 6.7786e-05 - val_loss: 1.2598e-04 - val_mse: 2.5196e-04\n",
            "Epoch 47/50\n",
            "145/150 [============================>.] - ETA: 0s - loss: 3.3370e-05 - mse: 6.6739e-05\n",
            "Epoch 47: val_loss did not improve from 0.00010\n",
            "150/150 [==============================] - 1s 8ms/step - loss: 3.3674e-05 - mse: 6.7348e-05 - val_loss: 1.2300e-04 - val_mse: 2.4599e-04\n",
            "Epoch 48/50\n",
            "145/150 [============================>.] - ETA: 0s - loss: 3.3522e-05 - mse: 6.7045e-05\n",
            "Epoch 48: val_loss improved from 0.00010 to 0.00010, saving model to tmp/ckeckpointer.ckpt\n",
            "150/150 [==============================] - 1s 8ms/step - loss: 3.3851e-05 - mse: 6.7702e-05 - val_loss: 9.5053e-05 - val_mse: 1.9011e-04\n",
            "Epoch 49/50\n",
            "147/150 [============================>.] - ETA: 0s - loss: 3.6247e-05 - mse: 7.2493e-05\n",
            "Epoch 49: val_loss did not improve from 0.00010\n",
            "150/150 [==============================] - 1s 8ms/step - loss: 3.6581e-05 - mse: 7.3162e-05 - val_loss: 1.0485e-04 - val_mse: 2.0971e-04\n",
            "Epoch 50/50\n",
            "141/150 [===========================>..] - ETA: 0s - loss: 3.9458e-05 - mse: 7.8917e-05\n",
            "Epoch 50: val_loss did not improve from 0.00010\n",
            "150/150 [==============================] - 1s 9ms/step - loss: 3.9933e-05 - mse: 7.9866e-05 - val_loss: 1.0021e-04 - val_mse: 2.0041e-04\n"
          ]
        }
      ],
      "source": [
        "history = model.fit(train_data, \n",
        "                    validation_data=(test_data), \n",
        "                    epochs=50, \n",
        "                    callbacks=[checkpoint, earlystopping])"
      ]
    },
    {
      "cell_type": "markdown",
      "metadata": {
        "id": "n-jZxCtr8bU1"
      },
      "source": [
        "저장한 ModelCheckpoint 를 로드합니다."
      ]
    },
    {
      "cell_type": "code",
      "execution_count": 33,
      "metadata": {
        "id": "RoPIDRSo32f-",
        "outputId": "58ff16f6-d4bc-4e0d-e16a-5fa1cd6781c7",
        "colab": {
          "base_uri": "https://localhost:8080/"
        }
      },
      "outputs": [
        {
          "output_type": "execute_result",
          "data": {
            "text/plain": [
              "<tensorflow.python.training.tracking.util.CheckpointLoadStatus at 0x7fddd45977d0>"
            ]
          },
          "metadata": {},
          "execution_count": 33
        }
      ],
      "source": [
        "model.load_weights(filename)"
      ]
    },
    {
      "cell_type": "markdown",
      "metadata": {
        "id": "F0CAzp7t8bU1"
      },
      "source": [
        "`test_data`를 활용하여 예측을 진행합니다."
      ]
    },
    {
      "cell_type": "code",
      "execution_count": 34,
      "metadata": {
        "id": "WxAxSLNL0l8Z"
      },
      "outputs": [],
      "source": [
        "pred = model.predict(test_data)"
      ]
    },
    {
      "cell_type": "code",
      "execution_count": 35,
      "metadata": {
        "colab": {
          "base_uri": "https://localhost:8080/"
        },
        "id": "yMPXjSQ10l8d",
        "outputId": "fa11839f-cf34-4521-ba5c-01f62507c34f"
      },
      "outputs": [
        {
          "output_type": "execute_result",
          "data": {
            "text/plain": [
              "(1180, 1)"
            ]
          },
          "metadata": {},
          "execution_count": 35
        }
      ],
      "source": [
        "pred.shape"
      ]
    },
    {
      "cell_type": "markdown",
      "metadata": {
        "id": "jaWpXnQf6zMt"
      },
      "source": [
        "## 예측 데이터 시각화"
      ]
    },
    {
      "cell_type": "markdown",
      "metadata": {
        "id": "9lDtsJgd8bU2"
      },
      "source": [
        "아래 시각화 코드중 y_test 데이터에 **[20:]**으로 슬라이싱을 한 이유는\n",
        "\n",
        "예측 데이터에서 20일치의 데이터로 21일치를 예측해야하기 때문에 test_data로 예측 시 *앞의 20일은 예측하지 않습니다.*\n",
        "\n",
        "따라서, 20번 째 index와 비교하면 더욱 정확합니다."
      ]
    },
    {
      "cell_type": "code",
      "execution_count": 36,
      "metadata": {
        "colab": {
          "base_uri": "https://localhost:8080/",
          "height": 592
        },
        "id": "2F4QQ1O_0l8m",
        "outputId": "246f69b9-ffa0-4611-e42b-9f482840db3f"
      },
      "outputs": [
        {
          "output_type": "display_data",
          "data": {
            "text/plain": [
              "<Figure size 1440x720 with 1 Axes>"
            ],
            "image/png": "[encoded data removed]"
          },
          "metadata": {
            "needs_background": "light"
          }
        }
      ],
      "source": [
        "plt.figure(figsize=(20, 10))\n",
        "plt.plot(np.asarray(y_test)[20:], label='actual')\n",
        "plt.plot(pred, label='prediction')\n",
        "plt.legend()\n",
        "plt.show()"
      ]
    },
    {
      "cell_type": "code",
      "source": [
        ""
      ],
      "metadata": {
        "id": "EzxteWfner9v"
      },
      "execution_count": null,
      "outputs": []
    }
  ],
  "metadata": {
    "accelerator": "GPU",
    "colab": {
      "collapsed_sections": [],
      "name": "6주차 실습과제_LSTM을 활용한 기아 주가예측.ipynb",
      "provenance": [],
      "include_colab_link": true
    },
    "kernelspec": {
      "display_name": "Python 3",
      "language": "python",
      "name": "python3"
    },
    "language_info": {
      "codemirror_mode": {
        "name": "ipython",
        "version": 3
      },
      "file_extension": ".py",
      "mimetype": "text/x-python",
      "name": "python",
      "nbconvert_exporter": "python",
      "pygments_lexer": "ipython3",
      "version": "3.6.10"
    }
  },
  "nbformat": 4,
  "nbformat_minor": 0
}