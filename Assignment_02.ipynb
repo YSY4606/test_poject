{
  "nbformat": 4,
  "nbformat_minor": 0,
  "metadata": {
    "colab": {
      "name": "Assignment 02.ipynb",
      "provenance": [],
      "collapsed_sections": [],
      "include_colab_link": true
    },
    "kernelspec": {
      "name": "python3",
      "display_name": "Python 3"
    },
    "language_info": {
      "name": "python"
    }
  },
  "cells": [
    {
      "cell_type": "markdown",
      "metadata": {
        "id": "view-in-github",
        "colab_type": "text"
      },
      "source": [
        "<a href=\"https://colab.research.google.com/github/YSY4606/test_poject/blob/main/Assignment_02.ipynb\" target=\"_parent\"><img src=\"https://colab.research.google.com/assets/colab-badge.svg\" alt=\"Open In Colab\"/></a>"
      ]
    },
    {
      "cell_type": "code",
      "execution_count": 1,
      "metadata": {
        "colab": {
          "base_uri": "https://localhost:8080/"
        },
        "id": "N9YUsOry9nD0",
        "outputId": "ef650f93-2b37-4fe5-dc8b-55bf6de998a5"
      },
      "outputs": [
        {
          "output_type": "stream",
          "name": "stdout",
          "text": [
            "김밥의 가격은? 5000\n"
          ]
        },
        {
          "output_type": "execute_result",
          "data": {
            "text/plain": [
              "dict_values([5000, 3000, 2000])"
            ]
          },
          "metadata": {},
          "execution_count": 1
        }
      ],
      "source": [
        "# 사전의 구조와 이해\n",
        "\n",
        "price = {'김밥': 5000, '어묵':3000, '떡볶이':2000}\n",
        "\n",
        "say = '김밥의 가격은?'\n",
        "print(say,price.get('김밥')) \n",
        "price.values()"
      ]
    },
    {
      "cell_type": "code",
      "source": [
        "# 리스트의 슬라이싱을 사용하여 아래를 출력하세요\n",
        "\n",
        "tp = [1,2,3,4,5,6,7]\n",
        "\n",
        "print(tp[0])\n",
        "\n",
        "print(tp[:3])\n",
        "\n",
        "print(tp[3:])\n",
        "\n",
        "print(tp[-1])\n",
        "\n",
        "print(tp[::-1])\n"
      ],
      "metadata": {
        "colab": {
          "base_uri": "https://localhost:8080/"
        },
        "id": "lQCEERSl-Wba",
        "outputId": "05849023-3b31-4e67-cf26-391c70b8bc4d"
      },
      "execution_count": 2,
      "outputs": [
        {
          "output_type": "stream",
          "name": "stdout",
          "text": [
            "1\n",
            "[1, 2, 3]\n",
            "[4, 5, 6, 7]\n",
            "7\n",
            "[7, 6, 5, 4, 3, 2, 1]\n"
          ]
        }
      ]
    },
    {
      "cell_type": "code",
      "source": [
        "# 조건문\n",
        "# 점수를 입력받아 등급을 출력하세요\n",
        "# 등급표 81~100\tA / 61~80\tB / 41~60\tC / 21~40\tD / 0~20\tE\n",
        "\n",
        "score = int(input(\"점수를 입력하세요: \"))\n",
        "\n",
        "if score >= 81 and score <= 100:\n",
        "  print(\"점수는 {}점이며 등급은 A등급입니다.\".format(score))\n",
        "elif score >= 61 and score <=80:\n",
        "  print(\"점수는 {}점이며 등급은 B등급입니다.\".format(score))\n",
        "elif score >= 41 and score <=60:\n",
        "  print(\"점수는 {}점이며 등급은 C등급입니다.\".format(score))\n",
        "elif score >= 21 and score <= 40:\n",
        "  print(\"점수는 {}점이며 등급은 D등급입니다.\".format(score))\n",
        "elif score >= 0 and score <= 20:\n",
        "  print(\"점수는 {}점이며 등급은 E등급입니다.\".format(score))\n"
      ],
      "metadata": {
        "colab": {
          "base_uri": "https://localhost:8080/"
        },
        "id": "YxX6NxrNCK5z",
        "outputId": "3add8e24-7298-4ea2-c78c-e82a860086f4"
      },
      "execution_count": 5,
      "outputs": [
        {
          "output_type": "stream",
          "name": "stdout",
          "text": [
            "점수를 입력하세요: 67\n",
            "점수는 67점이며 등급은 B등급입니다.\n"
          ]
        }
      ]
    },
    {
      "cell_type": "code",
      "source": [
        "# 함수를 만들고 두 수를 입력받아 연산하세요\n",
        "\n",
        "a = int(input('첫 번째 정수를 입력하세요: '))\n",
        "b = int(input('두 번째 정수를 입력하세요: '))\n",
        "\n",
        "def add(a,b):\n",
        "    return a+b\n",
        "print('덧셈 함수 연산:', add(a,b))\n",
        "\n",
        "def multiply(a,b):\n",
        "    return a*b\n",
        "print('곱셈 함수 연산:', multiply(a,b))\n",
        "\n",
        "def square(a,b):\n",
        "    return a**b\n",
        "print('제곱 함수 연산:', square(a,b))\n"
      ],
      "metadata": {
        "colab": {
          "base_uri": "https://localhost:8080/"
        },
        "id": "mD9n7jRG-8qL",
        "outputId": "6e467750-9ee3-4874-884f-7fa391a4ca2a"
      },
      "execution_count": 6,
      "outputs": [
        {
          "output_type": "stream",
          "name": "stdout",
          "text": [
            "첫 번째 정수를 입력하세요: 3\n",
            "두 번째 정수를 입력하세요: 5\n",
            "덧셈 함수 연산: 8\n",
            "곱셈 함수 연산: 15\n",
            "제곱 함수 연산: 243\n"
          ]
        }
      ]
    },
    {
      "cell_type": "code",
      "source": [
        "# 알고리즘 생성\n",
        "# 피보나치 수열을 계산하는 함수를 생성하고 자연수 10을 넣어 실행하세요\n",
        "\n",
        "def pivo(n):\n",
        "    a = [1]\n",
        "    for i in range(1,n):\n",
        "         if i == 1:\n",
        "           k = a[-1]\n",
        "           a.append(k)\n",
        "         else:\n",
        "            k = a[i-1] + a[i-2] \n",
        "            a.append(k)            \n",
        "    return a[-1]           \n",
        "\n",
        "print(pivo(10))"
      ],
      "metadata": {
        "colab": {
          "base_uri": "https://localhost:8080/"
        },
        "id": "OL3QMyusC9V0",
        "outputId": "c527f54a-bbbd-450f-bb79-073ae8fa74c6"
      },
      "execution_count": 7,
      "outputs": [
        {
          "output_type": "stream",
          "name": "stdout",
          "text": [
            "55\n"
          ]
        }
      ]
    },
    {
      "cell_type": "code",
      "source": [
        "# 클래스\n",
        "# 사람 (Human) 클래스를 정의하고 (이름, 나이, 성별)을 받는 생성자를 추가하세요.\n",
        "class Human():\n",
        "    def __init__(self, name, age, sex):\n",
        "        self.name = name\n",
        "        self.age = age\n",
        "        self.sex = sex\n",
        "    def info(self):\n",
        "        print('이름: {}\\n나이: {}\\성별: {}'.format(self.name, self.age, self.sex))\n",
        "\n",
        "def set_Human():\n",
        "    name = input(\"이름: \")\n",
        "    age = input(\"나이: \")\n",
        "    sex = input(\"성별: \")    \n",
        "\n",
        "def run():\n",
        "    set_Human()\n",
        "\n",
        "run()"
      ],
      "metadata": {
        "id": "nYv044w8Ae0Z",
        "colab": {
          "base_uri": "https://localhost:8080/"
        },
        "outputId": "6dbdd31a-e2e3-4da1-f84b-67d7cf56fae3"
      },
      "execution_count": 8,
      "outputs": [
        {
          "name": "stdout",
          "output_type": "stream",
          "text": [
            "이름: 양서연\n",
            "나이: 21\n",
            "성별: 여자\n"
          ]
        }
      ]
    }
  ]
}